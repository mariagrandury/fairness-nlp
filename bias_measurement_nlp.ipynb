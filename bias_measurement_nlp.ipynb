{
 "cells": [
  {
   "cell_type": "markdown",
   "source": "# Setup",
   "metadata": {
    "cell_id": "f0ea4dc584f14b018190ced04b0eb639",
    "tags": [],
    "deepnote_cell_type": "markdown",
    "deepnote_cell_height": 82
   }
  },
  {
   "cell_type": "markdown",
   "source": "## Imports\n\n**Note**: the requirements are listed in the requirements.txt file in the project. ",
   "metadata": {
    "cell_id": "70a3ff1259eb49e399689064991adee8",
    "tags": [],
    "deepnote_to_be_reexecuted": false,
    "source_hash": "e4f13cde",
    "execution_start": 1652193483058,
    "execution_millis": 0,
    "owner_user_id": "4ea216a4-f6be-46ab-a334-21f38fa091da",
    "deepnote_cell_type": "markdown",
    "deepnote_cell_height": 108.390625
   }
  },
  {
   "cell_type": "code",
   "metadata": {
    "tags": [],
    "cell_id": "4a4dbc21-beaf-4239-b2aa-7b0fd7d681cf",
    "deepnote_to_be_reexecuted": false,
    "source_hash": "29032523",
    "execution_start": 1656059564538,
    "execution_millis": 1589,
    "owner_user_id": "99893cd5-013f-4055-a1ed-61969e26342f",
    "deepnote_cell_type": "code",
    "deepnote_cell_height": 423
   },
   "source": "import pandas as pd \nimport gensim.downloader as gensim_api\nfrom gensim.models import KeyedVectors\nfrom gensim.scripts.glove2word2vec import glove2word2vec\n\nfrom wefe.datasets import load_weat\nfrom wefe.metrics import WEAT\nfrom wefe.query import Query\nfrom wefe.word_embedding_model import WordEmbeddingModel\n\nimport seaborn as sns\nimport matplotlib.pyplot as plt \nimport matplotlib.patches as mpatches\n\nimport utils\n\n\nplt.style.use('ggplot')\n\nspoke_colors = ['#FFC1C1', '#49486C', '#D0DFFB', '#FFF2D1']",
   "outputs": [],
   "execution_count": null
  },
  {
   "cell_type": "markdown",
   "source": "## Download Word Embeddings ",
   "metadata": {
    "cell_id": "324287aa2a4c42b182991d9c256227d1",
    "tags": [],
    "deepnote_cell_type": "markdown",
    "deepnote_cell_height": 70
   }
  },
  {
   "cell_type": "code",
   "metadata": {
    "cell_id": "112278ba8a784002b11989fdb50ab8c2",
    "tags": [],
    "deepnote_to_be_reexecuted": false,
    "source_hash": "9563b429",
    "execution_start": 1656059566127,
    "execution_millis": 72,
    "deepnote_cell_type": "code",
    "deepnote_cell_height": 116.1875
   },
   "source": "utils.list_all_pretrained_models()",
   "outputs": [
    {
     "name": "stdout",
     "text": "['fasttext-wiki-news-subwords-300', 'conceptnet-numberbatch-17-06-300', 'word2vec-ruscorpora-300', 'word2vec-google-news-300', 'glove-wiki-gigaword-50', 'glove-wiki-gigaword-100', 'glove-wiki-gigaword-200', 'glove-wiki-gigaword-300', 'glove-twitter-25', 'glove-twitter-50', 'glove-twitter-100', 'glove-twitter-200', '__testing_word2vec-matrix-synopsis']\n",
     "output_type": "stream"
    }
   ],
   "execution_count": null
  },
  {
   "cell_type": "code",
   "metadata": {
    "cell_id": "0df5be33fd034041bd181587ccd44f94",
    "tags": [],
    "deepnote_to_be_reexecuted": false,
    "source_hash": "4c12c6e7",
    "execution_start": 1656059853985,
    "execution_millis": 50158,
    "deepnote_cell_type": "code",
    "deepnote_cell_height": 81
   },
   "source": "google_news_300 = gensim_api.load(\"word2vec-google-news-300\")",
   "outputs": [],
   "execution_count": null
  },
  {
   "cell_type": "code",
   "metadata": {
    "cell_id": "f59724b93f4442c8929124ef88112bf6",
    "tags": [],
    "deepnote_to_be_reexecuted": false,
    "source_hash": "24fac6f",
    "execution_start": 1656059849632,
    "execution_millis": 26,
    "owner_user_id": "cd20b6ae-7835-4181-b61c-a23dccdb0026",
    "deepnote_cell_type": "code",
    "deepnote_cell_height": 144.1875
   },
   "source": "model = WordEmbeddingModel(google_news_300, \"word2vec google-news dim=300\")",
   "outputs": [
    {
     "output_type": "error",
     "ename": "NameError",
     "evalue": "name 'google_news_300' is not defined",
     "traceback": [
      "\u001b[0;31m---------------------------------------------------------------------------\u001b[0m",
      "\u001b[0;31mNameError\u001b[0m                                 Traceback (most recent call last)",
      "\u001b[0;32m<ipython-input-10-5c44abf269db>\u001b[0m in \u001b[0;36m<module>\u001b[0;34m\u001b[0m\n\u001b[0;32m----> 1\u001b[0;31m \u001b[0mmodel\u001b[0m \u001b[0;34m=\u001b[0m \u001b[0mWordEmbeddingModel\u001b[0m\u001b[0;34m(\u001b[0m\u001b[0mgoogle_news_300\u001b[0m\u001b[0;34m,\u001b[0m \u001b[0;34m\"word2vec google-news dim=300\"\u001b[0m\u001b[0;34m)\u001b[0m\u001b[0;34m\u001b[0m\u001b[0;34m\u001b[0m\u001b[0m\n\u001b[0m",
      "\u001b[0;31mNameError\u001b[0m: name 'google_news_300' is not defined"
     ]
    }
   ],
   "execution_count": null
  },
  {
   "cell_type": "code",
   "metadata": {
    "cell_id": "5770e3421b804a9080478b7ea9310419",
    "tags": [],
    "deepnote_to_be_reexecuted": true,
    "source_hash": "a74a8abc",
    "execution_start": 1656048957883,
    "execution_millis": 0,
    "deepnote_cell_type": "code",
    "deepnote_cell_height": 99
   },
   "source": "plot_words = ['marriage', 'wedding', \"she\", \"he\" ,\"executive\",\n            \"business\" ]",
   "execution_count": null,
   "outputs": []
  },
  {
   "cell_type": "code",
   "metadata": {
    "cell_id": "0da47943bbec4ac3b2a090c4e599791f",
    "tags": [],
    "deepnote_to_be_reexecuted": true,
    "source_hash": "65a818b7",
    "execution_start": 1656048957883,
    "execution_millis": 0,
    "deepnote_cell_type": "code",
    "deepnote_cell_height": 81
   },
   "source": "user_input = [\"gender\"]",
   "execution_count": null,
   "outputs": []
  },
  {
   "cell_type": "code",
   "metadata": {
    "cell_id": "ccadb3450d9342fa8078156ad2823267",
    "tags": [],
    "deepnote_to_be_reexecuted": true,
    "source_hash": "9e38cca1",
    "execution_start": 1656050447510,
    "execution_millis": 100,
    "owner_user_id": "618fe872-c974-4e6d-8c42-2ccd979ca3b8",
    "deepnote_cell_type": "code",
    "deepnote_cell_height": 721.5,
    "deepnote_output_heights": [
     606.5
    ]
   },
   "source": "\nutils.display_pca_scatterplot_3D(google_news_300, user_input, plot_words)",
   "execution_count": null,
   "outputs": [
    {
     "data": {
      "text/html": "<html>\n<head><meta charset=\"utf-8\" /></head>\n<body>\n    <div>            <script src=\"https://cdnjs.cloudflare.com/ajax/libs/mathjax/2.7.5/MathJax.js?config=TeX-AMS-MML_SVG\"></script><script type=\"text/javascript\">if (window.MathJax && window.MathJax.Hub && && window.MathJax.Hub.Config) {window.MathJax.Hub.Config({SVG: {font: \"STIX-Web\"}});}</script>                <script type=\"text/javascript\">window.PlotlyConfig = {MathJaxConfig: 'local'};</script>\n        <script src=\"https://cdn.plot.ly/plotly-2.12.1.min.js\"></script>                <div id=\"5c374904-9ec7-434e-9079-e1145949edd5\" class=\"plotly-graph-div\" style=\"height:1000px; width:1000px;\"></div>            <script type=\"text/javascript\">                                    window.PLOTLYENV=window.PLOTLYENV || {};                                    if (document.getElementById(\"5c374904-9ec7-434e-9079-e1145949edd5\")) {                    Plotly.newPlot(                        \"5c374904-9ec7-434e-9079-e1145949edd5\",                        [{\"marker\":{\"color\":2,\"opacity\":0.8,\"size\":10},\"mode\":\"markers+text\",\"name\":\"gender\",\"text\":[\"marriage\",\"wedding\",\"she\",\"he\",\"executive\"],\"textfont\":{\"size\":20},\"textposition\":\"top center\",\"x\":[2.0938031673431396,1.9979956150054932,-0.7123257517814636,-0.8933820128440857,-1.585511326789856],\"y\":[0.6730437278747559,-0.2024926245212555,-1.4433799982070923,-1.1345057487487793,1.6768429279327393],\"z\":[-1.465364694595337,1.5930262804031372,-0.34293338656425476,-0.27113404870033264,0.2381765991449356],\"type\":\"scatter3d\"},{\"marker\":{\"color\":\"black\",\"opacity\":1,\"size\":10},\"mode\":\"markers+text\",\"name\":\"input words\",\"text\":[\"business\"],\"textfont\":{\"size\":20},\"textposition\":\"top center\",\"x\":[-0.9005796313285828],\"y\":[0.4304918944835663],\"z\":[0.24822837114334106],\"type\":\"scatter3d\"}],                        {\"autosize\":false,\"font\":{\"family\":\" Courier New \",\"size\":15},\"height\":1000,\"legend\":{\"font\":{\"color\":\"black\",\"family\":\"Courier New\",\"size\":25},\"x\":1,\"y\":0.5},\"margin\":{\"b\":0,\"l\":0,\"r\":0,\"t\":0},\"showlegend\":true,\"width\":1000,\"template\":{\"data\":{\"histogram2dcontour\":[{\"type\":\"histogram2dcontour\",\"colorbar\":{\"outlinewidth\":0,\"ticks\":\"\"},\"colorscale\":[[0.0,\"#0d0887\"],[0.1111111111111111,\"#46039f\"],[0.2222222222222222,\"#7201a8\"],[0.3333333333333333,\"#9c179e\"],[0.4444444444444444,\"#bd3786\"],[0.5555555555555556,\"#d8576b\"],[0.6666666666666666,\"#ed7953\"],[0.7777777777777778,\"#fb9f3a\"],[0.8888888888888888,\"#fdca26\"],[1.0,\"#f0f921\"]]}],\"choropleth\":[{\"type\":\"choropleth\",\"colorbar\":{\"outlinewidth\":0,\"ticks\":\"\"}}],\"histogram2d\":[{\"type\":\"histogram2d\",\"colorbar\":{\"outlinewidth\":0,\"ticks\":\"\"},\"colorscale\":[[0.0,\"#0d0887\"],[0.1111111111111111,\"#46039f\"],[0.2222222222222222,\"#7201a8\"],[0.3333333333333333,\"#9c179e\"],[0.4444444444444444,\"#bd3786\"],[0.5555555555555556,\"#d8576b\"],[0.6666666666666666,\"#ed7953\"],[0.7777777777777778,\"#fb9f3a\"],[0.8888888888888888,\"#fdca26\"],[1.0,\"#f0f921\"]]}],\"heatmap\":[{\"type\":\"heatmap\",\"colorbar\":{\"outlinewidth\":0,\"ticks\":\"\"},\"colorscale\":[[0.0,\"#0d0887\"],[0.1111111111111111,\"#46039f\"],[0.2222222222222222,\"#7201a8\"],[0.3333333333333333,\"#9c179e\"],[0.4444444444444444,\"#bd3786\"],[0.5555555555555556,\"#d8576b\"],[0.6666666666666666,\"#ed7953\"],[0.7777777777777778,\"#fb9f3a\"],[0.8888888888888888,\"#fdca26\"],[1.0,\"#f0f921\"]]}],\"heatmapgl\":[{\"type\":\"heatmapgl\",\"colorbar\":{\"outlinewidth\":0,\"ticks\":\"\"},\"colorscale\":[[0.0,\"#0d0887\"],[0.1111111111111111,\"#46039f\"],[0.2222222222222222,\"#7201a8\"],[0.3333333333333333,\"#9c179e\"],[0.4444444444444444,\"#bd3786\"],[0.5555555555555556,\"#d8576b\"],[0.6666666666666666,\"#ed7953\"],[0.7777777777777778,\"#fb9f3a\"],[0.8888888888888888,\"#fdca26\"],[1.0,\"#f0f921\"]]}],\"contourcarpet\":[{\"type\":\"contourcarpet\",\"colorbar\":{\"outlinewidth\":0,\"ticks\":\"\"}}],\"contour\":[{\"type\":\"contour\",\"colorbar\":{\"outlinewidth\":0,\"ticks\":\"\"},\"colorscale\":[[0.0,\"#0d0887\"],[0.1111111111111111,\"#46039f\"],[0.2222222222222222,\"#7201a8\"],[0.3333333333333333,\"#9c179e\"],[0.4444444444444444,\"#bd3786\"],[0.5555555555555556,\"#d8576b\"],[0.6666666666666666,\"#ed7953\"],[0.7777777777777778,\"#fb9f3a\"],[0.8888888888888888,\"#fdca26\"],[1.0,\"#f0f921\"]]}],\"surface\":[{\"type\":\"surface\",\"colorbar\":{\"outlinewidth\":0,\"ticks\":\"\"},\"colorscale\":[[0.0,\"#0d0887\"],[0.1111111111111111,\"#46039f\"],[0.2222222222222222,\"#7201a8\"],[0.3333333333333333,\"#9c179e\"],[0.4444444444444444,\"#bd3786\"],[0.5555555555555556,\"#d8576b\"],[0.6666666666666666,\"#ed7953\"],[0.7777777777777778,\"#fb9f3a\"],[0.8888888888888888,\"#fdca26\"],[1.0,\"#f0f921\"]]}],\"mesh3d\":[{\"type\":\"mesh3d\",\"colorbar\":{\"outlinewidth\":0,\"ticks\":\"\"}}],\"scatter\":[{\"fillpattern\":{\"fillmode\":\"overlay\",\"size\":10,\"solidity\":0.2},\"type\":\"scatter\"}],\"parcoords\":[{\"type\":\"parcoords\",\"line\":{\"colorbar\":{\"outlinewidth\":0,\"ticks\":\"\"}}}],\"scatterpolargl\":[{\"type\":\"scatterpolargl\",\"marker\":{\"colorbar\":{\"outlinewidth\":0,\"ticks\":\"\"}}}],\"bar\":[{\"error_x\":{\"color\":\"#2a3f5f\"},\"error_y\":{\"color\":\"#2a3f5f\"},\"marker\":{\"line\":{\"color\":\"#E5ECF6\",\"width\":0.5},\"pattern\":{\"fillmode\":\"overlay\",\"size\":10,\"solidity\":0.2}},\"type\":\"bar\"}],\"scattergeo\":[{\"type\":\"scattergeo\",\"marker\":{\"colorbar\":{\"outlinewidth\":0,\"ticks\":\"\"}}}],\"scatterpolar\":[{\"type\":\"scatterpolar\",\"marker\":{\"colorbar\":{\"outlinewidth\":0,\"ticks\":\"\"}}}],\"histogram\":[{\"marker\":{\"pattern\":{\"fillmode\":\"overlay\",\"size\":10,\"solidity\":0.2}},\"type\":\"histogram\"}],\"scattergl\":[{\"type\":\"scattergl\",\"marker\":{\"colorbar\":{\"outlinewidth\":0,\"ticks\":\"\"}}}],\"scatter3d\":[{\"type\":\"scatter3d\",\"line\":{\"colorbar\":{\"outlinewidth\":0,\"ticks\":\"\"}},\"marker\":{\"colorbar\":{\"outlinewidth\":0,\"ticks\":\"\"}}}],\"scattermapbox\":[{\"type\":\"scattermapbox\",\"marker\":{\"colorbar\":{\"outlinewidth\":0,\"ticks\":\"\"}}}],\"scatterternary\":[{\"type\":\"scatterternary\",\"marker\":{\"colorbar\":{\"outlinewidth\":0,\"ticks\":\"\"}}}],\"scattercarpet\":[{\"type\":\"scattercarpet\",\"marker\":{\"colorbar\":{\"outlinewidth\":0,\"ticks\":\"\"}}}],\"carpet\":[{\"aaxis\":{\"endlinecolor\":\"#2a3f5f\",\"gridcolor\":\"white\",\"linecolor\":\"white\",\"minorgridcolor\":\"white\",\"startlinecolor\":\"#2a3f5f\"},\"baxis\":{\"endlinecolor\":\"#2a3f5f\",\"gridcolor\":\"white\",\"linecolor\":\"white\",\"minorgridcolor\":\"white\",\"startlinecolor\":\"#2a3f5f\"},\"type\":\"carpet\"}],\"table\":[{\"cells\":{\"fill\":{\"color\":\"#EBF0F8\"},\"line\":{\"color\":\"white\"}},\"header\":{\"fill\":{\"color\":\"#C8D4E3\"},\"line\":{\"color\":\"white\"}},\"type\":\"table\"}],\"barpolar\":[{\"marker\":{\"line\":{\"color\":\"#E5ECF6\",\"width\":0.5},\"pattern\":{\"fillmode\":\"overlay\",\"size\":10,\"solidity\":0.2}},\"type\":\"barpolar\"}],\"pie\":[{\"automargin\":true,\"type\":\"pie\"}]},\"layout\":{\"autotypenumbers\":\"strict\",\"colorway\":[\"#636efa\",\"#EF553B\",\"#00cc96\",\"#ab63fa\",\"#FFA15A\",\"#19d3f3\",\"#FF6692\",\"#B6E880\",\"#FF97FF\",\"#FECB52\"],\"font\":{\"color\":\"#2a3f5f\"},\"hovermode\":\"closest\",\"hoverlabel\":{\"align\":\"left\"},\"paper_bgcolor\":\"white\",\"plot_bgcolor\":\"#E5ECF6\",\"polar\":{\"bgcolor\":\"#E5ECF6\",\"angularaxis\":{\"gridcolor\":\"white\",\"linecolor\":\"white\",\"ticks\":\"\"},\"radialaxis\":{\"gridcolor\":\"white\",\"linecolor\":\"white\",\"ticks\":\"\"}},\"ternary\":{\"bgcolor\":\"#E5ECF6\",\"aaxis\":{\"gridcolor\":\"white\",\"linecolor\":\"white\",\"ticks\":\"\"},\"baxis\":{\"gridcolor\":\"white\",\"linecolor\":\"white\",\"ticks\":\"\"},\"caxis\":{\"gridcolor\":\"white\",\"linecolor\":\"white\",\"ticks\":\"\"}},\"coloraxis\":{\"colorbar\":{\"outlinewidth\":0,\"ticks\":\"\"}},\"colorscale\":{\"sequential\":[[0.0,\"#0d0887\"],[0.1111111111111111,\"#46039f\"],[0.2222222222222222,\"#7201a8\"],[0.3333333333333333,\"#9c179e\"],[0.4444444444444444,\"#bd3786\"],[0.5555555555555556,\"#d8576b\"],[0.6666666666666666,\"#ed7953\"],[0.7777777777777778,\"#fb9f3a\"],[0.8888888888888888,\"#fdca26\"],[1.0,\"#f0f921\"]],\"sequentialminus\":[[0.0,\"#0d0887\"],[0.1111111111111111,\"#46039f\"],[0.2222222222222222,\"#7201a8\"],[0.3333333333333333,\"#9c179e\"],[0.4444444444444444,\"#bd3786\"],[0.5555555555555556,\"#d8576b\"],[0.6666666666666666,\"#ed7953\"],[0.7777777777777778,\"#fb9f3a\"],[0.8888888888888888,\"#fdca26\"],[1.0,\"#f0f921\"]],\"diverging\":[[0,\"#8e0152\"],[0.1,\"#c51b7d\"],[0.2,\"#de77ae\"],[0.3,\"#f1b6da\"],[0.4,\"#fde0ef\"],[0.5,\"#f7f7f7\"],[0.6,\"#e6f5d0\"],[0.7,\"#b8e186\"],[0.8,\"#7fbc41\"],[0.9,\"#4d9221\"],[1,\"#276419\"]]},\"xaxis\":{\"gridcolor\":\"white\",\"linecolor\":\"white\",\"ticks\":\"\",\"title\":{\"standoff\":15},\"zerolinecolor\":\"white\",\"automargin\":true,\"zerolinewidth\":2},\"yaxis\":{\"gridcolor\":\"white\",\"linecolor\":\"white\",\"ticks\":\"\",\"title\":{\"standoff\":15},\"zerolinecolor\":\"white\",\"automargin\":true,\"zerolinewidth\":2},\"scene\":{\"xaxis\":{\"backgroundcolor\":\"#E5ECF6\",\"gridcolor\":\"white\",\"linecolor\":\"white\",\"showbackground\":true,\"ticks\":\"\",\"zerolinecolor\":\"white\",\"gridwidth\":2},\"yaxis\":{\"backgroundcolor\":\"#E5ECF6\",\"gridcolor\":\"white\",\"linecolor\":\"white\",\"showbackground\":true,\"ticks\":\"\",\"zerolinecolor\":\"white\",\"gridwidth\":2},\"zaxis\":{\"backgroundcolor\":\"#E5ECF6\",\"gridcolor\":\"white\",\"linecolor\":\"white\",\"showbackground\":true,\"ticks\":\"\",\"zerolinecolor\":\"white\",\"gridwidth\":2}},\"shapedefaults\":{\"line\":{\"color\":\"#2a3f5f\"}},\"annotationdefaults\":{\"arrowcolor\":\"#2a3f5f\",\"arrowhead\":0,\"arrowwidth\":1},\"geo\":{\"bgcolor\":\"white\",\"landcolor\":\"#E5ECF6\",\"subunitcolor\":\"white\",\"showland\":true,\"showlakes\":true,\"lakecolor\":\"white\"},\"title\":{\"x\":0.05},\"mapbox\":{\"style\":\"light\"}}}},                        {\"responsive\": true}                    ).then(function(){\n                            \nvar gd = document.getElementById('5c374904-9ec7-434e-9079-e1145949edd5');\nvar x = new MutationObserver(function (mutations, observer) {{\n        var display = window.getComputedStyle(gd).display;\n        if (!display || display === 'none') {{\n            console.log([gd, 'removed!']);\n            Plotly.purge(gd);\n            observer.disconnect();\n        }}\n}});\n\n// Listen for the removal of the full notebook cells\nvar notebookContainer = gd.closest('#notebook-container');\nif (notebookContainer) {{\n    x.observe(notebookContainer, {childList: true});\n}}\n\n// Listen for the clearing of the current output cell\nvar outputEl = gd.closest('.output');\nif (outputEl) {{\n    x.observe(outputEl, {childList: true});\n}}\n\n                        })                };                            </script>        </div>\n</body>\n</html>"
     },
     "metadata": {},
     "output_type": "display_data"
    }
   ]
  },
  {
   "cell_type": "markdown",
   "source": "## Prepare Query",
   "metadata": {
    "cell_id": "059b795571e943d6bdfe68d62cb3e22c",
    "tags": [],
    "deepnote_to_be_reexecuted": false,
    "source_hash": "c1556b0b",
    "execution_start": 1652194078117,
    "execution_millis": 0,
    "deepnote_cell_type": "markdown",
    "deepnote_cell_height": 70
   }
  },
  {
   "cell_type": "markdown",
   "source": " The WEFE library Fairness Measures receive queries as input, with each query formed by a target and attribute words.\n\n * The **target words** describe the social groups in which fairness is intended to be measured (e.g. African Americans, Women, Sikhs)\n * The **attribute words** describe traits or attitudes by which a bias towards one of the social groups may be exhibited (e.g., pleasant vs. unpleasant terms)\n\n\n **Note**: Here we are only looking at two genders for the sake of simplicty, of course gender is not a binary concept!",
   "metadata": {
    "cell_id": "afd64af8ed78419ebab463a1c84cb61f",
    "tags": [],
    "deepnote_cell_type": "markdown",
    "deepnote_cell_height": 217.78125
   }
  },
  {
   "cell_type": "code",
   "metadata": {
    "cell_id": "17c339ab439749ddaec20643d9867c0e",
    "tags": [],
    "deepnote_to_be_reexecuted": true,
    "source_hash": "7ea5cdba",
    "execution_start": 1656050338616,
    "execution_millis": 3,
    "owner_user_id": "9d5c3749-bdcd-42e0-9fe4-3bb07ba8e876",
    "deepnote_cell_type": "code",
    "deepnote_cell_height": 713.578125
   },
   "source": "gender_query = Query(\n    target_sets=[\n        [\"female\", \"woman\", \"girl\", \"sister\", \"she\", \"her\", \"hers\", \"daughter\"],\n        [\"male\", \"man\", \"boy\", \"brother\", \"he\", \"him\", \"his\", \"son\"],\n    ],\n    attribute_sets=[\n        [\n            \"home\",\n            \"parents\",\n            \"children\",\n            \"family\",\n            \"cousins\",\n            \"marriage\",\n            \"wedding\",\n            \"relatives\",\n        ],\n        [\n            \"executive\",\n            \"management\",\n            \"professional\",\n            \"corporation\",\n            \"salary\",\n            \"office\",\n            \"business\",\n            \"career\",\n        ],\n    ],\n    target_sets_names=[\"Female terms\", \"Male Terms\"],\n    attribute_sets_names=[\"Family\", \"Careers\"],\n)\n\nprint(gender_query)",
   "execution_count": null,
   "outputs": [
    {
     "name": "stdout",
     "text": "<Query: Female terms and Male Terms wrt Family and Careers\n- Target sets: [['home', 'parents', 'children', 'family', 'cousins', 'marriage', 'wedding', 'relatives'], ['executive', 'management', 'professional', 'corporation', 'salary', 'office', 'business', 'career']]\n- Attribute sets:[['female', 'woman', 'girl', 'sister', 'she', 'her', 'hers', 'daughter'], ['male', 'man', 'boy', 'brother', 'he', 'him', 'his', 'son']]>\n",
     "output_type": "stream"
    }
   ]
  },
  {
   "cell_type": "markdown",
   "source": "### WEAT Word Sets",
   "metadata": {
    "cell_id": "430ad9af430f4d199daea72c18fc8b68",
    "tags": [],
    "owner_user_id": "c4de9201-8e75-4017-ae55-65309e6d9f8a",
    "deepnote_cell_type": "markdown",
    "deepnote_cell_height": 62
   }
  },
  {
   "cell_type": "code",
   "metadata": {
    "cell_id": "dfaa26602c984004980af1419a9e53d9",
    "tags": [],
    "deepnote_to_be_reexecuted": true,
    "source_hash": "36d62f1b",
    "execution_start": 1656050342676,
    "execution_millis": 2,
    "deepnote_cell_type": "code",
    "deepnote_cell_height": 81
   },
   "source": "weat_wordsets = load_weat()",
   "execution_count": null,
   "outputs": []
  },
  {
   "cell_type": "code",
   "metadata": {
    "cell_id": "7db972065c39458189e910e914c971cf",
    "tags": [],
    "deepnote_to_be_reexecuted": true,
    "source_hash": "97713d93",
    "execution_start": 1656050343773,
    "execution_millis": 4,
    "deepnote_cell_type": "code",
    "deepnote_cell_height": 118.1875,
    "deepnote_output_heights": [
     21.1875
    ]
   },
   "source": "weat_wordsets.keys()",
   "execution_count": null,
   "outputs": [
    {
     "output_type": "execute_result",
     "execution_count": 27,
     "data": {
      "text/plain": "dict_keys(['flowers', 'insects', 'pleasant_5', 'unpleasant_5', 'instruments', 'weapons', 'european_american_names_5', 'african_american_names_5', 'european_american_names_7', 'african_american_names_7', 'pleasant_9', 'unpleasant_9', 'male_names', 'female_names', 'career', 'family', 'math', 'arts', 'male_terms', 'female_terms', 'science', 'arts_2', 'male_terms_2', 'female_terms_2', 'mental_disease', 'physical_disease', 'temporary', 'permanent', 'young_people_names', 'old_people_names'])"
     },
     "metadata": {}
    }
   ]
  },
  {
   "cell_type": "markdown",
   "source": "# Bias Measurement",
   "metadata": {
    "cell_id": "01cf72293db54e36b7836ff938257c93",
    "tags": [],
    "deepnote_to_be_reexecuted": false,
    "source_hash": "722a9fd5",
    "execution_start": 1652194150362,
    "execution_millis": 1,
    "deepnote_cell_type": "markdown",
    "deepnote_cell_height": 82
   }
  },
  {
   "cell_type": "markdown",
   "source": "Read the [documentation](https://wefe.readthedocs.io/en/latest/api.html) for the various mesaures that WEFE provides. ",
   "metadata": {
    "cell_id": "8c789185aa37438b8cf317eefb2d78ba",
    "tags": [],
    "deepnote_cell_type": "markdown",
    "deepnote_cell_height": 52.390625
   }
  },
  {
   "cell_type": "markdown",
   "source": "## WEAT\n\n* The closer its value is to 0, the less biased the model is, values usually lie between 0 and 2\n* The more positive the value given by the WEATscore, the more the target set 1 will be related to attribute set 1 and second target set 2 to attribute set 2\n* You can return the p-value with parameters `calculate_p_value = True,p_value_iterations=1000`\n\n",
   "metadata": {
    "cell_id": "585ffda50c984d4a86e882110be93f03",
    "tags": [],
    "owner_user_id": "53800d50-96c3-4650-a973-9913c97d92c5",
    "deepnote_cell_type": "markdown",
    "deepnote_cell_height": 195.59375
   }
  },
  {
   "cell_type": "code",
   "metadata": {
    "cell_id": "5f2901c4b416455093be2fd80e8ae91f",
    "tags": [],
    "deepnote_to_be_reexecuted": true,
    "source_hash": "767e8f0e",
    "execution_start": 1656050374696,
    "execution_millis": 52,
    "deepnote_cell_type": "code",
    "deepnote_cell_height": 152.1875
   },
   "source": "metric = WEAT()\nresult = metric.run_query(gender_query, model)\nprint(result)",
   "execution_count": null,
   "outputs": [
    {
     "name": "stdout",
     "text": "{'query_name': 'Female terms and Male Terms wrt Family and Careers', 'result': 0.46343880688073114, 'weat': 0.46343880688073114, 'effect_size': 0.45076526581093423, 'p_value': nan}\n",
     "output_type": "stream"
    }
   ]
  },
  {
   "cell_type": "markdown",
   "source": "# Visualising Bias",
   "metadata": {
    "cell_id": "84b5120d700c486db0c94bb6742c13fd",
    "tags": [],
    "deepnote_to_be_reexecuted": false,
    "source_hash": "e0bb7a08",
    "execution_start": 1652194182864,
    "execution_millis": 0,
    "deepnote_cell_type": "markdown",
    "deepnote_cell_height": 82
   }
  },
  {
   "cell_type": "code",
   "metadata": {
    "cell_id": "9f547cdb13fb4e1783fee4faa6620bda",
    "tags": [],
    "deepnote_to_be_reexecuted": true,
    "source_hash": "c869fdbe",
    "execution_start": 1656050376117,
    "execution_millis": 22,
    "deepnote_cell_type": "code",
    "deepnote_cell_height": 249
   },
   "source": "result_df = pd.DataFrame([result])\nresult_df",
   "execution_count": null,
   "outputs": [
    {
     "output_type": "execute_result",
     "execution_count": 30,
     "data": {
      "application/vnd.deepnote.dataframe.v3+json": {
       "column_count": 5,
       "row_count": 1,
       "columns": [
        {
         "name": "query_name",
         "dtype": "object",
         "stats": {
          "unique_count": 1,
          "nan_count": 0,
          "categories": [
           {
            "name": "Female terms and Male Terms wrt Family and Careers",
            "count": 1
           }
          ]
         }
        },
        {
         "name": "result",
         "dtype": "float64",
         "stats": {
          "unique_count": 1,
          "nan_count": 0,
          "min": "0.46343880688073114",
          "max": "0.46343880688073114",
          "histogram": [
           {
            "bin_start": -0.036561193119268864,
            "bin_end": 0.06343880688073114,
            "count": 0
           },
           {
            "bin_start": 0.06343880688073114,
            "bin_end": 0.16343880688073115,
            "count": 0
           },
           {
            "bin_start": 0.16343880688073115,
            "bin_end": 0.2634388068807312,
            "count": 0
           },
           {
            "bin_start": 0.2634388068807312,
            "bin_end": 0.36343880688073116,
            "count": 0
           },
           {
            "bin_start": 0.36343880688073116,
            "bin_end": 0.46343880688073114,
            "count": 0
           },
           {
            "bin_start": 0.46343880688073114,
            "bin_end": 0.5634388068807312,
            "count": 1
           },
           {
            "bin_start": 0.5634388068807312,
            "bin_end": 0.6634388068807312,
            "count": 0
           },
           {
            "bin_start": 0.6634388068807312,
            "bin_end": 0.7634388068807312,
            "count": 0
           },
           {
            "bin_start": 0.7634388068807312,
            "bin_end": 0.8634388068807312,
            "count": 0
           },
           {
            "bin_start": 0.8634388068807312,
            "bin_end": 0.9634388068807311,
            "count": 0
           }
          ]
         }
        },
        {
         "name": "weat",
         "dtype": "float64",
         "stats": {
          "unique_count": 1,
          "nan_count": 0,
          "min": "0.46343880688073114",
          "max": "0.46343880688073114",
          "histogram": [
           {
            "bin_start": -0.036561193119268864,
            "bin_end": 0.06343880688073114,
            "count": 0
           },
           {
            "bin_start": 0.06343880688073114,
            "bin_end": 0.16343880688073115,
            "count": 0
           },
           {
            "bin_start": 0.16343880688073115,
            "bin_end": 0.2634388068807312,
            "count": 0
           },
           {
            "bin_start": 0.2634388068807312,
            "bin_end": 0.36343880688073116,
            "count": 0
           },
           {
            "bin_start": 0.36343880688073116,
            "bin_end": 0.46343880688073114,
            "count": 0
           },
           {
            "bin_start": 0.46343880688073114,
            "bin_end": 0.5634388068807312,
            "count": 1
           },
           {
            "bin_start": 0.5634388068807312,
            "bin_end": 0.6634388068807312,
            "count": 0
           },
           {
            "bin_start": 0.6634388068807312,
            "bin_end": 0.7634388068807312,
            "count": 0
           },
           {
            "bin_start": 0.7634388068807312,
            "bin_end": 0.8634388068807312,
            "count": 0
           },
           {
            "bin_start": 0.8634388068807312,
            "bin_end": 0.9634388068807311,
            "count": 0
           }
          ]
         }
        },
        {
         "name": "effect_size",
         "dtype": "float64",
         "stats": {
          "unique_count": 1,
          "nan_count": 0,
          "min": "0.45076526581093423",
          "max": "0.45076526581093423",
          "histogram": [
           {
            "bin_start": -0.049234734189065765,
            "bin_end": 0.05076526581093424,
            "count": 0
           },
           {
            "bin_start": 0.05076526581093424,
            "bin_end": 0.15076526581093425,
            "count": 0
           },
           {
            "bin_start": 0.15076526581093425,
            "bin_end": 0.2507652658109343,
            "count": 0
           },
           {
            "bin_start": 0.2507652658109343,
            "bin_end": 0.35076526581093426,
            "count": 0
           },
           {
            "bin_start": 0.35076526581093426,
            "bin_end": 0.45076526581093423,
            "count": 0
           },
           {
            "bin_start": 0.45076526581093423,
            "bin_end": 0.5507652658109343,
            "count": 1
           },
           {
            "bin_start": 0.5507652658109343,
            "bin_end": 0.6507652658109343,
            "count": 0
           },
           {
            "bin_start": 0.6507652658109343,
            "bin_end": 0.7507652658109343,
            "count": 0
           },
           {
            "bin_start": 0.7507652658109343,
            "bin_end": 0.8507652658109343,
            "count": 0
           },
           {
            "bin_start": 0.8507652658109343,
            "bin_end": 0.9507652658109342,
            "count": 0
           }
          ]
         }
        },
        {
         "name": "p_value",
         "dtype": "float64",
         "stats": {
          "unique_count": 0,
          "nan_count": 1,
          "min": null,
          "max": null,
          "histogram": [
           {
            "bin_start": 0,
            "bin_end": 0.1,
            "count": 0
           },
           {
            "bin_start": 0.1,
            "bin_end": 0.2,
            "count": 0
           },
           {
            "bin_start": 0.2,
            "bin_end": 0.30000000000000004,
            "count": 0
           },
           {
            "bin_start": 0.30000000000000004,
            "bin_end": 0.4,
            "count": 0
           },
           {
            "bin_start": 0.4,
            "bin_end": 0.5,
            "count": 0
           },
           {
            "bin_start": 0.5,
            "bin_end": 0.6000000000000001,
            "count": 0
           },
           {
            "bin_start": 0.6000000000000001,
            "bin_end": 0.7000000000000001,
            "count": 0
           },
           {
            "bin_start": 0.7000000000000001,
            "bin_end": 0.8,
            "count": 0
           },
           {
            "bin_start": 0.8,
            "bin_end": 0.9,
            "count": 0
           },
           {
            "bin_start": 0.9,
            "bin_end": 1,
            "count": 0
           }
          ]
         }
        },
        {
         "name": "_deepnote_index_column",
         "dtype": "int64"
        }
       ],
       "rows": [
        {
         "query_name": "Female terms and Male Terms wrt Family and Careers",
         "result": 0.46343880688073114,
         "weat": 0.46343880688073114,
         "effect_size": 0.45076526581093423,
         "p_value": "nan",
         "_deepnote_index_column": 0
        }
       ]
      },
      "text/plain": "                                          query_name    result      weat  \\\n0  Female terms and Male Terms wrt Family and Car...  0.463439  0.463439   \n\n   effect_size  p_value  \n0     0.450765      NaN  ",
      "text/html": "<div>\n<style scoped>\n    .dataframe tbody tr th:only-of-type {\n        vertical-align: middle;\n    }\n\n    .dataframe tbody tr th {\n        vertical-align: top;\n    }\n\n    .dataframe thead th {\n        text-align: right;\n    }\n</style>\n<table border=\"1\" class=\"dataframe\">\n  <thead>\n    <tr style=\"text-align: right;\">\n      <th></th>\n      <th>query_name</th>\n      <th>result</th>\n      <th>weat</th>\n      <th>effect_size</th>\n      <th>p_value</th>\n    </tr>\n  </thead>\n  <tbody>\n    <tr>\n      <th>0</th>\n      <td>Female terms and Male Terms wrt Family and Car...</td>\n      <td>0.463439</td>\n      <td>0.463439</td>\n      <td>0.450765</td>\n      <td>NaN</td>\n    </tr>\n  </tbody>\n</table>\n</div>"
     },
     "metadata": {}
    }
   ]
  },
  {
   "cell_type": "code",
   "metadata": {
    "cell_id": "f2918de3777f4a83819337cb3628c05c",
    "tags": [],
    "deepnote_to_be_reexecuted": true,
    "source_hash": "9b703f69",
    "execution_start": 1656050998959,
    "execution_millis": 763,
    "deepnote_cell_type": "code",
    "deepnote_cell_height": 382,
    "deepnote_output_heights": [
     267
    ]
   },
   "source": "sns.barplot(x = \"weat\", y = \"query_name\", data = result_df, color=spoke_colors[0])\nplt.show()",
   "execution_count": null,
   "outputs": [
    {
     "data": {
      "text/plain": "<Figure size 432x288 with 1 Axes>",
      "image/png": "[encoded data removed]"
     },
     "metadata": {
      "needs_background": "light",
      "image/png": {
       "width": 640,
       "height": 265
      }
     },
     "output_type": "display_data"
    }
   ]
  },
  {
   "cell_type": "markdown",
   "source": "**Useful Hint**: \n\nCan run several queries via run_queries (e.g. `from wefe.utils import run_queries`)\nand plot an compare results with:\n```\nfrom wefe.utils import plot_queries_results\nplot_queries_results(result_df)",
   "metadata": {
    "cell_id": "57c89519485644ed8636cd5228551d5f",
    "tags": [],
    "deepnote_to_be_reexecuted": false,
    "source_hash": "e8bddfa8",
    "execution_start": 1656049791599,
    "execution_millis": 2583,
    "deepnote_cell_type": "markdown",
    "deepnote_cell_height": 186.78125
   }
  },
  {
   "cell_type": "markdown",
   "source": "# Exercises",
   "metadata": {
    "cell_id": "c61f41a8477a48138c6b426f57387948",
    "tags": [],
    "deepnote_to_be_reexecuted": false,
    "source_hash": "fa1ac43e",
    "execution_start": 1652194242328,
    "execution_millis": 0,
    "deepnote_cell_type": "markdown",
    "deepnote_cell_height": 82
   }
  },
  {
   "cell_type": "markdown",
   "source": "1. Measure & Visualise the bias for a set of target and Attribute words that you choose (can use examples from the WEAT wordsets or your own)\n2. Compare the bias across two word-embeddings and discuss a hypothesis of why they may be different\n3. Measure bias using another metric from the WEFE library and explain it's concept in a couple of sentences\n\n* Relative Norm Distance (RND)\n* Relative Negative Sentiment Bias (RNSB)\n* Mean Average Cosine (MAC)\n",
   "metadata": {
    "cell_id": "abc6a90ae005493492cdadae48b618a9",
    "tags": [],
    "deepnote_cell_type": "markdown",
    "deepnote_cell_height": 229.78125
   }
  },
  {
   "cell_type": "code",
   "metadata": {
    "cell_id": "4296f760c68e4fe78c0e0f613dff01b9",
    "tags": [],
    "deepnote_to_be_reexecuted": true,
    "source_hash": "b623e53d",
    "deepnote_cell_type": "code",
    "deepnote_cell_height": 81
   },
   "source": "",
   "execution_count": null,
   "outputs": []
  },
  {
   "cell_type": "markdown",
   "source": "<a style='text-decoration:none;line-height:16px;display:flex;color:#5B5B62;padding:10px;justify-content:end;' href='https://deepnote.com?utm_source=created-in-deepnote-cell&projectId=d2871a92-4e31-4482-a3e9-30cad94e9005' target=\"_blank\">\n<img alt='Created in deepnote.com' style='display:inline;max-height:16px;margin:0px;margin-right:7.5px;' src='data:image/svg+xml;base64,PD94bWwgdmVyc2lvbj0iMS4wIiBlbmNvZGluZz0iVVRGLTgiPz4KPHN2ZyB3aWR0aD0iODBweCIgaGVpZ2h0PSI4MHB4IiB2aWV3Qm94PSIwIDAgODAgODAiIHZlcnNpb249IjEuMSIgeG1sbnM9Imh0dHA6Ly93d3cudzMub3JnLzIwMDAvc3ZnIiB4bWxuczp4bGluaz0iaHR0cDovL3d3dy53My5vcmcvMTk5OS94bGluayI+CiAgICA8IS0tIEdlbmVyYXRvcjogU2tldGNoIDU0LjEgKDc2NDkwKSAtIGh0dHBzOi8vc2tldGNoYXBwLmNvbSAtLT4KICAgIDx0aXRsZT5Hcm91cCAzPC90aXRsZT4KICAgIDxkZXNjPkNyZWF0ZWQgd2l0aCBTa2V0Y2guPC9kZXNjPgogICAgPGcgaWQ9IkxhbmRpbmciIHN0cm9rZT0ibm9uZSIgc3Ryb2tlLXdpZHRoPSIxIiBmaWxsPSJub25lIiBmaWxsLXJ1bGU9ImV2ZW5vZGQiPgogICAgICAgIDxnIGlkPSJBcnRib2FyZCIgdHJhbnNmb3JtPSJ0cmFuc2xhdGUoLTEyMzUuMDAwMDAwLCAtNzkuMDAwMDAwKSI+CiAgICAgICAgICAgIDxnIGlkPSJHcm91cC0zIiB0cmFuc2Zvcm09InRyYW5zbGF0ZSgxMjM1LjAwMDAwMCwgNzkuMDAwMDAwKSI+CiAgICAgICAgICAgICAgICA8cG9seWdvbiBpZD0iUGF0aC0yMCIgZmlsbD0iIzAyNjVCNCIgcG9pbnRzPSIyLjM3NjIzNzYyIDgwIDM4LjA0NzY2NjcgODAgNTcuODIxNzgyMiA3My44MDU3NTkyIDU3LjgyMTc4MjIgMzIuNzU5MjczOSAzOS4xNDAyMjc4IDMxLjY4MzE2ODMiPjwvcG9seWdvbj4KICAgICAgICAgICAgICAgIDxwYXRoIGQ9Ik0zNS4wMDc3MTgsODAgQzQyLjkwNjIwMDcsNzYuNDU0OTM1OCA0Ny41NjQ5MTY3LDcxLjU0MjI2NzEgNDguOTgzODY2LDY1LjI2MTk5MzkgQzUxLjExMjI4OTksNTUuODQxNTg0MiA0MS42NzcxNzk1LDQ5LjIxMjIyODQgMjUuNjIzOTg0Niw0OS4yMTIyMjg0IEMyNS40ODQ5Mjg5LDQ5LjEyNjg0NDggMjkuODI2MTI5Niw0My4yODM4MjQ4IDM4LjY0NzU4NjksMzEuNjgzMTY4MyBMNzIuODcxMjg3MSwzMi41NTQ0MjUgTDY1LjI4MDk3Myw2Ny42NzYzNDIxIEw1MS4xMTIyODk5LDc3LjM3NjE0NCBMMzUuMDA3NzE4LDgwIFoiIGlkPSJQYXRoLTIyIiBmaWxsPSIjMDAyODY4Ij48L3BhdGg+CiAgICAgICAgICAgICAgICA8cGF0aCBkPSJNMCwzNy43MzA0NDA1IEwyNy4xMTQ1MzcsMC4yNTcxMTE0MzYgQzYyLjM3MTUxMjMsLTEuOTkwNzE3MDEgODAsMTAuNTAwMzkyNyA4MCwzNy43MzA0NDA1IEM4MCw2NC45NjA0ODgyIDY0Ljc3NjUwMzgsNzkuMDUwMzQxNCAzNC4zMjk1MTEzLDgwIEM0Ny4wNTUzNDg5LDc3LjU2NzA4MDggNTMuNDE4MjY3Nyw3MC4zMTM2MTAzIDUzLjQxODI2NzcsNTguMjM5NTg4NSBDNTMuNDE4MjY3Nyw0MC4xMjg1NTU3IDM2LjMwMzk1NDQsMzcuNzMwNDQwNSAyNS4yMjc0MTcsMzcuNzMwNDQwNSBDMTcuODQzMDU4NiwzNy43MzA0NDA1IDkuNDMzOTE5NjYsMzcuNzMwNDQwNSAwLDM3LjczMDQ0MDUgWiIgaWQ9IlBhdGgtMTkiIGZpbGw9IiMzNzkzRUYiPjwvcGF0aD4KICAgICAgICAgICAgPC9nPgogICAgICAgIDwvZz4KICAgIDwvZz4KPC9zdmc+' > </img>\nCreated in <span style='font-weight:600;margin-left:4px;'>Deepnote</span></a>",
   "metadata": {
    "tags": [],
    "created_in_deepnote_cell": true,
    "deepnote_cell_type": "markdown"
   }
  }
 ],
 "nbformat": 4,
 "nbformat_minor": 2,
 "metadata": {
  "orig_nbformat": 2,
  "deepnote": {},
  "deepnote_notebook_id": "c30e44f5-a1c0-4261-86c6-a6cd668c454e",
  "deepnote_execution_queue": []
 }
}