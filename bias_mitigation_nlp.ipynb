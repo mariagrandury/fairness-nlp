{
 "cells": [
  {
   "cell_type": "markdown",
   "source": "# Setup",
   "metadata": {
    "cell_id": "b133472cbbc842ee8ecfe3ee214b70df",
    "tags": [],
    "deepnote_cell_type": "markdown",
    "deepnote_cell_height": 82
   }
  },
  {
   "cell_type": "markdown",
   "source": "## Imports",
   "metadata": {
    "cell_id": "802a8e2603e74a93be8c76c6adf0ff02",
    "tags": [],
    "deepnote_to_be_reexecuted": false,
    "source_hash": "f1562a4c",
    "execution_start": 1652193615499,
    "execution_millis": 2,
    "deepnote_cell_type": "markdown",
    "deepnote_cell_height": 70
   }
  },
  {
   "cell_type": "code",
   "metadata": {
    "tags": [],
    "deepnote_to_be_reexecuted": false,
    "source_hash": "5886df2e",
    "execution_start": 1656063121729,
    "execution_millis": 2472,
    "cell_id": "6fe9dfbb-4c10-4052-b245-408d99d09158",
    "deepnote_cell_type": "code",
    "deepnote_cell_height": 405
   },
   "source": "import gensim.downloader as api\n\nfrom wefe.datasets import fetch_debiaswe, load_weat\nfrom wefe.debias.hard_debias import HardDebias\nfrom wefe.metrics import WEAT\nfrom wefe.query import Query\nfrom wefe.word_embedding_model import WordEmbeddingModel\n\nimport utils\nimport pandas as pd\n\nimport seaborn as sns\nimport matplotlib.pyplot as plt \nimport matplotlib.patches as mpatches\n\n\nplt.style.use('ggplot')\n\nspoke_colors = ['#FFC1C1', '#49486C', '#D0DFFB', '#FFF2D1']",
   "outputs": [],
   "execution_count": null
  },
  {
   "cell_type": "markdown",
   "source": "## Download Dataset",
   "metadata": {
    "tags": [],
    "cell_id": "00001-9d6a501f-6394-4add-a8a7-eb2e21cea6e1",
    "owner_user_id": "eea1f181-1b18-4789-b5f1-2edcff66ff60",
    "deepnote_cell_type": "markdown",
    "deepnote_cell_height": 70
   }
  },
  {
   "cell_type": "code",
   "metadata": {
    "tags": [],
    "deepnote_to_be_reexecuted": false,
    "source_hash": "66d8ddc3",
    "execution_start": 1656063124204,
    "execution_millis": 26392,
    "cell_id": "00002-72feb1f6-90dd-4d9d-8c12-9137f17a5f5c",
    "deepnote_cell_type": "code",
    "deepnote_cell_height": 99
   },
   "source": "twitter_25 = api.load(\"glove-twitter-25\")\nmodel = WordEmbeddingModel(twitter_25, \"glove-twitter-dim=25\")",
   "outputs": [],
   "execution_count": null
  },
  {
   "cell_type": "code",
   "metadata": {
    "cell_id": "e6ed6c78f56547a69ded62ac805685f7",
    "tags": [],
    "deepnote_to_be_reexecuted": false,
    "source_hash": "9563b429",
    "execution_start": 1656063150599,
    "execution_millis": 75,
    "deepnote_cell_type": "code",
    "deepnote_cell_height": 116.1875
   },
   "source": "utils.list_all_pretrained_models()",
   "outputs": [
    {
     "name": "stdout",
     "text": "['fasttext-wiki-news-subwords-300', 'conceptnet-numberbatch-17-06-300', 'word2vec-ruscorpora-300', 'word2vec-google-news-300', 'glove-wiki-gigaword-50', 'glove-wiki-gigaword-100', 'glove-wiki-gigaword-200', 'glove-wiki-gigaword-300', 'glove-twitter-25', 'glove-twitter-50', 'glove-twitter-100', 'glove-twitter-200', '__testing_word2vec-matrix-synopsis']\n",
     "output_type": "stream"
    }
   ],
   "execution_count": null
  },
  {
   "cell_type": "markdown",
   "source": "# Hard Debias\n\n**Example of gender debiasing**\n\nThe gender-neutral terms, should be equidistant to the he-she pairs, and the gender-specific terms should continue to convey the embedded gender information in them.\n\n* SVD (singular value decomposition) as performed on a subset of such opposite gender pairs, to finally obtain the direction or subspace of this bias\n* The vectors lying in this subspace (the gender-neutral terms) are “neutralized” such that they remain equidistant from equality pairs like “he-she”. Technically, what happens is that the projection of the embedding on the bias direction is subtracted from the vector\n\n* The embeddings outside this direction (the gender-specific terms) are “equalized”, or averaged out to have the same vector length. This is done to ensure that the neutral terms are equidistant to ALL equality pairs. For example, the term doctor should be equidistant to both guy-girl and man-woman.\n\n\n\nSome important Parameters:\n\n* criterion_name: name to give de-biased model\n* target: If a set of words is specified in target, the debias method will be performed only on the word embeddings associated with this set.\n* ignore: these set of words are not debiased (e.g. maintain their gendered meaning)",
   "metadata": {
    "tags": [],
    "deepnote_to_be_reexecuted": false,
    "source_hash": "69c7aeb4",
    "execution_start": 1655816111898,
    "execution_millis": 1,
    "cell_id": "00003-c3bedca1-aad0-497b-86b2-8656ba2701b1",
    "deepnote_cell_type": "markdown",
    "deepnote_cell_height": 538.375
   }
  },
  {
   "cell_type": "code",
   "metadata": {
    "tags": [],
    "cell_id": "00004-3f2b50a6-fbc2-4d29-bdd9-328aaa3fea72",
    "deepnote_to_be_reexecuted": false,
    "source_hash": "82ea0ca3",
    "execution_start": 1656063150634,
    "execution_millis": 627,
    "owner_user_id": "cd20b6ae-7835-4181-b61c-a23dccdb0026",
    "deepnote_cell_type": "code",
    "deepnote_cell_height": 504.359375
   },
   "source": "debiaswe_wordsets = fetch_debiaswe()\n\ndefinitional_pairs = debiaswe_wordsets[\"definitional_pairs\"]\nprint(f'definitional_pairs: {definitional_pairs}')\n\nequalize_pairs = debiaswe_wordsets[\"equalize_pairs\"]\nprint(f\"equalize_pairs: {equalize_pairs}\")\n\ngender_specific = debiaswe_wordsets[\"gender_specific\"]\nprint(f\"gender_specific: {gender_specific}\")\n\nhd = HardDebias(verbose=False, criterion_name=\"gender\").fit(\n    model,\n    definitional_pairs=definitional_pairs,\n    equalize_pairs=equalize_pairs,\n)",
   "outputs": [
    {
     "name": "stdout",
     "text": "definitional_pairs: [['woman', 'man'], ['girl', 'boy'], ['she', 'he'], ['mother', 'father'], ['daughter', 'son'], ['gal', 'guy'], ['female', 'male'], ['her', 'his'], ['herself', 'himself'], ['Mary', 'John']]\nequalize_pairs: [['monastery', 'convent'], ['spokesman', 'spokeswoman'], ['Catholic_priest', 'nun'], ['Dad', 'Mom'], ['Men', 'Women'], ['councilman', 'councilwoman'], ['grandpa', 'grandma'], ['grandsons', 'granddaughters'], ['prostate_cancer', 'ovarian_cancer'], ['testosterone', 'estrogen'], ['uncle', 'aunt'], ['wives', 'husbands'], ['Father', 'Mother'], ['Grandpa', 'Grandma'], ['He', 'She'], ['boy', 'girl'], ['boys', 'girls'], ['brother', 'sister'], ['brothers', 'sisters'], ['businessman', 'businesswoman'], ['chairman', 'chairwoman'], ['colt', 'filly'], ['congressman', 'congresswoman'], ['dad', 'mom'], ['dads', 'moms'], ['dudes', 'gals'], ['ex_girlfriend', 'ex_boyfriend'], ['father', 'mother'], ['fatherhood', 'motherhood'], ['fathers', 'mothers'], ['fella', 'granny'], ['fraternity', 'sorority'], ['gelding', 'mare'], ['gentleman', 'lady'], ['gentlemen', 'ladies'], ['grandfather', 'grandmother'], ['grandson', 'granddaughter'], ['he', 'she'], ['himself', 'herself'], ['his', 'her'], ['king', 'queen'], ['kings', 'queens'], ['male', 'female'], ['males', 'females'], ['man', 'woman'], ['men', 'women'], ['nephew', 'niece'], ['prince', 'princess'], ['schoolboy', 'schoolgirl'], ['son', 'daughter'], ['sons', 'daughters'], ['twin_brother', 'twin_sister']]\ngender_specific: ['he', 'his', 'He', 'her', 'she', 'him', 'She', 'man', 'women', 'men', 'His', 'woman', 'spokesman', 'wife', 'himself', 'son', 'mother', 'father', 'chairman', 'daughter', 'husband', 'guy', 'girls', 'girl', 'Her', 'boy', 'King', 'boys', 'brother', 'Chairman', 'spokeswoman', 'female', 'sister', 'Women', 'Man', 'male', 'herself', 'Lions', 'Lady', 'brothers', 'dad', 'actress', 'mom', 'sons', 'girlfriend', 'Kings', 'Men', 'daughters', 'Prince', 'Queen', 'teenager', 'lady', 'Bulls', 'boyfriend', 'sisters', 'Colts', 'mothers', 'Sir', 'king', 'businessman', 'Boys', 'grandmother', 'grandfather', 'deer', 'cousin', 'Woman', 'ladies', 'Girls', 'Father', 'uncle', 'PA', 'Boy', 'Councilman', 'mum', 'Brothers', 'MA', 'males', 'Girl', 'Mom', 'Guy', 'Queens', 'congressman', 'Dad', 'Mother', 'grandson', 'twins', 'bull', 'queen', 'businessmen', 'wives', 'widow', 'nephew', 'bride', 'females', 'aunt', 'Congressman', 'prostate_cancer', 'lesbian', 'chairwoman', 'fathers', 'Son', 'moms', 'Ladies', 'maiden', 'granddaughter', 'younger_brother', 'Princess', 'Guys', 'lads', 'Ma', 'Sons', 'lion', 'Bachelor', 'gentleman', 'fraternity', 'bachelor', 'niece', 'Lion', 'Sister', 'bulls', 'husbands', 'prince', 'colt', 'salesman', 'Bull', 'Sisters', 'hers', 'dude', 'Spokesman', 'beard', 'filly', 'Actress', 'Him', 'princess', 'Brother', 'lesbians', 'councilman', 'actresses', 'Viagra', 'gentlemen', 'stepfather', 'Deer', 'monks', 'Beard', 'Uncle', 'ex_girlfriend', 'lad', 'sperm', 'Daddy', 'testosterone', 'MAN', 'Female', 'nephews', 'maid', 'daddy', 'mare', 'fiance', 'Wife', 'fiancee', 'kings', 'dads', 'waitress', 'Male', 'maternal', 'heroine', 'feminist', 'Mama', 'nieces', 'girlfriends', 'Councilwoman', 'sir', 'stud', 'Mothers', 'mistress', 'lions', 'estranged_wife', 'womb', 'Brotherhood', 'Statesman', 'grandma', 'maternity', 'estrogen', 'ex_boyfriend', 'widows', 'gelding', 'diva', 'teenage_girls', 'nuns', 'Daughter', 'czar', 'ovarian_cancer', 'HE', 'Monk', 'countrymen', 'Grandma', 'teenage_girl', 'penis', 'bloke', 'nun', 'Husband', 'brides', 'housewife', 'spokesmen', 'suitors', 'menopause', 'monastery', 'patriarch', 'Beau', 'motherhood', 'brethren', 'stepmother', 'Dude', 'prostate', 'Moms', 'hostess', 'twin_brother', 'Colt', 'schoolboy', 'eldest', 'brotherhood', 'Godfather', 'fillies', 'stepson', 'congresswoman', 'Chairwoman', 'Daughters', 'uncles', 'witch', 'Mommy', 'monk', 'viagra', 'paternity', 'suitor', 'chick', 'Pa', 'fiancé', 'sorority', 'macho', 'Spokeswoman', 'businesswoman', 'eldest_son', 'gal', 'statesman', 'schoolgirl', 'fathered', 'goddess', 'hubby', 'mares', 'stepdaughter', 'blokes', 'dudes', 'socialite', 'strongman', 'Witch', 'fiancée', 'uterus', 'grandsons', 'Bride', 'studs', 'mama', 'Aunt', 'godfather', 'hens', 'hen', 'mommy', 'Babe', 'estranged_husband', 'Fathers', 'elder_brother', 'boyhood', 'baritone', 'Diva', 'Lesbian', 'grandmothers', 'grandpa', 'boyfriends', 'feminism', 'countryman', 'stallion', 'heiress', 'queens', 'Grandpa', 'witches', 'aunts', 'semen', 'fella', 'granddaughters', 'chap', 'knight', 'widower', 'Maiden', 'salesmen', 'convent', 'KING', 'vagina', 'beau', 'babe', 'HIS', 'beards', 'handyman', 'twin_sister', 'maids', 'gals', 'housewives', 'Gentlemen', 'horsemen', 'Businessman', 'obstetrics', 'fatherhood', 'beauty_queen', 'councilwoman', 'princes', 'matriarch', 'colts', 'manly', 'ma', 'fraternities', 'Spokesmen', 'pa', 'fellas', 'Gentleman', 'councilmen', 'dowry', 'barbershop', 'Monks', 'WOMAN', 'fraternal', 'ballerina', 'manhood', 'Dads', 'heroines', 'granny', 'gynecologist', 'princesses', 'Goddess', 'yo', 'Granny', 'knights', 'eldest_daughter', 'HER', 'underage_girls', 'masculinity', 'Girlfriend', 'bro', 'Grandmother', 'grandfathers', 'crown_prince', 'Restless', 'paternal', 'Queen_Mother', 'Boyfriend', 'womens', 'Males', 'SHE', 'Countess', 'stepchildren', 'Belles', 'bachelors', 'matron', 'momma', 'Legs', 'maidens', 'goddesses', 'landlady', 'sisterhood', 'Grandfather', 'Fraternity', 'Majesty', 'Babes', 'lass', 'maternal_grandmother', 'blondes', \"ma'am\", 'Womens', 'divorcee', 'Momma', 'fathering', 'Effie', 'Lad', 'womanhood', 'missus', 'Sisterhood', 'granddad', 'Mens', 'papa', 'gf', 'sis', 'Husbands', 'Hen', 'womanizer', 'gynecological', 'stepsister', 'Handsome', 'Prince_Charming', 'BOY', 'stepdad', 'teen_ager', 'GIRL', 'dame', 'Sorority', 'beauty_pageants', 'raspy', 'harem', 'maternal_grandfather', 'Hes', 'deliveryman', 'septuagenarian', 'damsel', 'paternal_grandmother', 'paramour', 'paternal_grandparents', 'Nun', 'DAD', 'mothering', 'shes', \"HE_'S\", 'Nuns', 'teenage_daughters', 'auntie', 'widowed_mother', 'Girlfriends', 'FATHER', 'virile', 'COUPLE', 'grandmas', 'Hubby', 'nan', 'vixen', 'Joan_Crawford', 'stepdaughters', 'endometrial_cancer', 'stepsons', 'loins', 'Grandson', 'Mitchells', 'erections', 'Matron', 'Fella', 'daddies', 'ter', 'Sweetie', 'Dudes', 'Princesses', 'Lads', 'lioness', 'Mamma', 'virility', 'bros', 'womenfolk', 'Heir', 'BROTHERS', 'manliness', 'patriarchs', 'earl', 'sisterly', 'Whore', 'Gynaecology', 'countess', 'convents', 'Oratory', 'witch_doctor', 'mamas', 'yah', 'aunty', 'aunties', 'Heiress', 'lasses', 'Breasts', 'fairer_sex', 'sorority_sisters', 'WIFE', 'Laurels', 'penile', 'nuh', 'mah', 'toms', 'mam', 'Granddad', 'premenopausal_women', 'Granddaddy', 'nana', 'coeds', 'dames', 'herdsman', 'Mammy', 'Fellas', 'Niece', 'menfolk', 'Grandad', 'bloods', 'Gramps', 'damsels', 'Granddaughter', 'mamma', 'concubine', 'Oros', 'Blarney', 'filial', 'broads', 'Ethel_Kennedy', 'ACTRESS', 'Tit', 'fianc', 'Hunk', 'Night_Shift', 'wifey', 'Lothario', 'Holy_Roman_Emperor', 'horse_breeder', 'grandnephew', 'Lewises', 'Muscular', 'feminist_movement', 'Sanan', 'womenâ_€_™', 'Fiancee', 'dowries', 'Carmelite', 'rah', 'n_roller', 'bay_filly', 'belles', 'Uncles', 'PRINCESS', 'womans', 'Homeboy', 'Blokes', 'Charmer', 'codger', 'Delta_Zeta', 'courtesans', 'grandaughter', 'SISTER', 'Highness', 'grandbabies', 'crone', 'Skip_Away', 'noblewoman', 'bf', 'jane', 'philandering_husband', 'Sisqo', 'mammy', 'daugher', 'director_Skip_Bertman', 'DAUGHTER', 'Royal_Highness', 'mannish', 'spinsters', 'Missus', 'madame', 'Godfathers', 'saleswomen', 'beaus', 'Risha', 'luh', 'sah', 'negligee', 'Womenâ_€_™', 'Hos', 'salesgirl', 'grandmom', 'Grandmas', 'Lawsons', 'countrywomen', 'Booby', 'darlin', 'Sheiks', 'boyz', 'wifes', 'Bayi', 'Il_Duce', 'â_€_œMy', 'fem', 'daugther', 'Potti', 'hussy', 'tch', 'Gelding', 'stemmed_roses', 'Damson', 'puh', 'Tylers', 'neice', 'Mutha', 'GRANDMOTHER', 'youse', 'spurned_lover', 'mae', 'Britt_Ekland', 'clotheshorse', 'Carlita_Kilpatrick', 'Cambest', 'Pretty_Polly', 'banshees', 'male_chauvinist', 'Arliss', 'mommas', 'maidservant', 'Gale_Harold', 'Little_Bo_Peep', 'Cleavers', 'hags', 'blowsy', 'Queen_Elizabeth_I.', 'lassies', 'papas', 'BABE', 'ugly_ducklings', 'Jims', 'hellion', 'Beautician', 'coalminer', 'relaxin', 'El_Mahroug', 'Victoria_Secret_Angel', 'shepherdess', 'Mosco', 'Slacks', 'nanna', 'wifely', 'tomboys', 'LAH', 'hast', 'apo', 'Kaplans', 'milkmaid', 'Robin_Munis', 'John_Barleycorn', 'royal_highness', 'Meanie', 'NAH', 'trollop', 'roh', 'Jewess', 'Sheik_Hamad', 'mumsy', 'Big_Pussy', 'chil_dren', 'Aunt_Bea', 'basso', 'sista', 'girlies', 'nun_Sister', 'chica', 'Bubbas', 'massa', 'Southern_belles', 'Nephews', 'castrations', 'Mister_Ed', 'Grandsons', 'Calaf', 'Malachy_McCourt', 'Shamash', 'hey_hey', 'Harmen', 'sonofabitch', 'Donovans', 'Grannie', 'Kalinka', 'hisself', 'Devean', 'goatherd', 'hinds', 'El_Corredor', 'Kens', 'notorious_womanizer', 'goh', 'Mommas', 'washerwoman', 'Samaira', 'Coo_Coo', 'Governess', 'grandsire', 'PRINCE_WILLIAM', 'gramma', 'him.He', 'Coptic_priest', 'Corbie', 'Kennys', 'thathe', 'Pa_Pa', 'Bristols', 'Hotep', 'snowy_haired', 'El_Prado_Ire', 'Girl_hitmaker', 'Hurleys', 'St._Meinrad', 'sexually_perverted', 'authoress', 'Prudie', 'raven_haired_beauty', 'Bonos', 'domestic_shorthair', 'brothas', 'nymphet', 'Neelma', 'Seita', 'stud_muffin', 'St._Judes', 'yenta', 'bare_shouldered', 'Pinkney_Sr.', 'PRINCE_CHARLES', 'Bisutti', 'sistas', 'Blanche_Devereaux', 'Momoa', 'Quiff', 'Scotswoman', 'balaclava_clad_men', 'Louis_Leakey', 'dearie', 'vacuum_cleaner_salesman', 'grandads', 'postulant', 'SARAH_JESSICA_PARKER', 'AUNT', 'Prince_Dauntless', 'Dalys', 'Darkie', 'Czar_Nicholas', 'Lion_Hearted', 'Boy_recliner', 'baby_mamas', 'giantess', 'Lawd', 'GRANNY', 'fianc_e', 'Bilqis', 'WCTU', 'famly', 'Ellas', 'feminazis', 'Pentheus', 'MAMAS', 'Town_Criers', 'Saggy', 'youngman', 'grandam', 'divorcé', 'bosomed', 'roon', 'Simmentals', 'eponymous_heroine', 'LEYLAND', \"REE'\", \"cain't\", 'Evelynn', \"WAH'\", 'sistah', 'Horners', 'Elsie_Poncher', 'Coochie', 'rat_terriers', 'Limousins', 'Buchinski', 'Schicchi', 'Carpitcher', 'Khwezi', \"HAH'\", 'Shazza', 'Mackeson', \"ROH'\", 'kuya', 'novice_nun', 'Shei', 'Elmasri', 'ladykiller', '6yo', 'Yenta', 'SHEL', 'pater', 'Souse', 'Tahirah', 'comedian_Rodney_Dangerfield', 'Shottle', 'carryin', 'Sath', \"fa'afafine\", 'royal_consort', 'hus_band', 'maternal_uncles', 'dressing_provocatively', 'dreamgirl', 'millionaire_industrialist', 'Georgie_Girl', 'Must_Be_Obeyed', 'joh', 'Arabian_stallion', 'ahr', 'mso_para_margin_0in', \"SOO'\", 'Biddles', 'Chincoteague_Volunteer_Fire', 'Lisa_Miceli', 'gorgeous_brunette', 'fiancŽ', 'Moved_fluently', 'Afternoon_Deelites', 'biker_dude', 'Vito_Spatafore', 'MICK_JAGGER', 'Adesida', 'Reineman', 'witz', 'Djamila', 'Glenroe', 'daddys', 'Romanzi', 'gentlewomen', 'Dandie_Dinmont_terrier', 'Excess_Ire', 'By_SYVJ_Staff', 'zan', 'CONFESSIONS', 'Magees', 'wimmin', 'tash', 'Theatrical_Ire', 'Prince_Charmings', 'chocolate_eclair', 'bron', 'daughers', 'Felly', 'fiftyish', 'Spritely', 'GRANDPA', 'distaffer', 'Norbertines', \"DAH'\", 'leader_Muammar_Gadaffi', 'swains', 'Prince_Tomohito', 'Honneur', 'Soeur', 'jouster', 'Pharaoh_Amenhotep_III', 'QUEEN_ELIZABETH_II', \"Ne'er\", 'Galileo_Ire', 'Fools_Crow', 'Lannisters', 'Devines', 'gonzales', 'columnist_Ann_Landers', 'Moseleys', 'hiz', 'busch', 'roastee', 'toyboys', 'Sheffields', 'grandaunt', 'Galvins', 'Giongo', 'geh', 'flame_haired_actress', 'Grammarian', 'Greg_Evigan', 'frontierswoman', 'Debele', 'rabs', 'nymphets', 'aai', 'BREE', 'Shaqs', 'ZAY', 'pappa', 'Housa', 'refrigerator_repairman', 'artificial_inseminations', 'chickie', 'Rippa', 'teenager_Tracy_Turnblad', 'homebred_colt', 'Abigaille', 'hen_pecked_husband', 'businesman', 'her.She', 'Kaikeyi', 'Stittsworth', 'self_proclaimed_redneck', 'Khella', 'NeW', 'Evers_Swindell', 'Asmerom_Gebreselassie', 'Boy_recliners', 'Cliff_Claven', 'Legge_Bourke', 'Costos', \"d'_honneur\", 'sistahs', 'Cabble', 'sahn', 'CROW_AGENCY_Mont', 'jezebel', 'Harrolds', 'ROSARIO_DAWSON', 'INXS_frontman_Michael_Hutchence', 'Gursikh', 'Dadas', 'VIAGA', 'keen_horsewoman', 'Theodoric', 'Eldery', 'lihn', 'Alice_Kramden', 'Santarina', 'radical_cleric_al_Sadr', 'Curleys', \"SY'\", 'Fidaa', 'Saptapadi', 'Actor_Sean_Astin', 'Kellita_Smith', 'Doly', 'Libertina', 'Money_McBags', 'Chief_Bearhart', 'choirgirl', 'chestnut_stallion', 'VIGRA', 'BY_JIM_McCONNELL', 'Sal_Vitale', 'Trivia_buffs', 'kumaris', 'fraternal_lodge', 'galpals', 'Borino_Quinn', 'lina', 'LATEST_Rapper', 'Bezar', 'Manro', 'bakla', 'Grisetti', 'blond_bimbo', 'spinster_aunt', 'gurls', 'hiswife', 'paleface', 'Charlye', 'hippie_chicks', 'Khalifas', 'Picture_JUSTIN_SANSON', 'Hepburns', 'yez', 'ALDER', 'Sanussi', 'Lil_Sis', 'McLoughlins', 'Barbra_Jean', 'Lulua', 'thatshe', 'actress_Shohreh_Aghdashloo', 'SIR_ANTHONY_HOPKINS', 'Gloddy', \"ZAH'\", \"ORANGE_'S\", 'Danielle_Bimber', 'grandmum', 'Kulkis', 'Brazington', 'Marisa_Lenhard_CFA', 'SIR_JOHN', 'Clareman', 'Aqila', 'Heavily_tattooed', 'Libbys', 'thim', 'elocutionist', 'submissives', 'Inja', 'rahm', 'Agnes_Gooch', 'fake_tits', 'nancy_boys', 'Swaidan', \"SHAH'\", \"ain'ta_bed\", 'Shumail_Raj', 'Duchesse', 'diethylstilbestrol_DES', 'colt_foal', 'unfaithful_lover', 'Maseri', 'nevah', 'SAHN', 'Barths', 'Toughkenamon', 'GUEST_STARS', 'him.But', 'Donna_Claspell', 'gingham_dresses', 'Massage_Parlour', 'wae', 'Wasacz', 'Magistra', 'vihl', 'Smriti_Iraani', 'boyish_haircut', 'workingwoman', 'borthers', 'Capuchin_friars', 'Nejma', 'yes_sirs', 'bivocational_pastor', 'Grafters', 'HOPWOOD', 'Nicknamed_Godzilla', 'yos', 'Berkenfield', 'Missis', 'sitcom_Designing_Women', 'Kafoa', 'trainer_Emma_Lavelle', 'sadomasochistic_dungeon', 'iht', 'desperates', 'predessor', 'wolf_cub', 'indigenous_Peruvians', 'Livia_Soprano', 'troh', 'colt_sired', 'BOND_HILL', 'ihl', 'Drydens', 'rahs', 'Piserchia', 'Sonny_Corinthos', 'bankrobber', 'Fwank', 'feisty_redhead', 'booze_guzzling', 'COOPERS', \"actress_Q'orianka_Kilcher\", 'Cortezar', 'twe', 'Jacoub', 'Cindy_Iannarelli', 'Hell_Raiser', 'Fondly_referred', 'Bridal_Shoppe', 'Noleta', 'Christinas', 'IAGRA', 'LaTanya_Richardson', 'Sang_Bender', 'Assasins', 'sorrel_gelding', 'septugenarian', 'Hissy', 'Muqtada_al_Sadr_mook', 'Pfeni', 'MADRID_AFX_Banco_Santander', 'tuchis', 'LeVaughn', 'Gadzicki', 'transvestite_hooker', 'Fame_jockey_Laffit', 'nun_Sister_Mary', 'SAMSONOV', 'Mayflower_Madam', 'Shaque', 'well.He', 'Trainer_Julio_Canani', 'sorrel_mare', 'minivehicle_joint_venture', 'wife_Dwina', \"Aasiya_AH'_see\", 'Baratheon', \"Rick_O'Shay\", 'Mammies', 'goatie', 'Nell_Gwynne', 'charmingly_awkward', 'Slamma', 'DEHL', 'Lorenzo_Borghese', 'ALMA_Wis.', 'Anne_Scurria', 'father_Peruvians_alternately', 'JULIE_ANDREWS', 'Slim_Pickins', 'Victoria_Secret_stunner', \"BY'\", 'Sanam_Devdas', 'pronounced_luh', 'Pasha_Selim', '中华', 'rson', 'maternal_grandmothers', 'IOWA_CITY_Ia', 'Madame_de_Tourvel', \"JAY'\", 'Sheika_Mozah_bint_Nasser', 'Hotsy_Totsy', \"D'_Ginto\", 'singer_Johnny_Paycheck', 'uterine_prolapse_surgery', 'SCOTTDALE_Pa.', 'AdelaideNow_reports', 'Marcus_Schenkenberg', 'Clyse', 'Obiter_Dicta', 'comic_Sam_Kinison', 'bitties', 'ROCKVILLE_Ind.', 'swimsuit_calendars', 'Decicio_Smith', 'Ma_ma', 'Rie_Miyazawa', 'celibate_chastity', 'gwah', \"ZAY'\", 'HER_Majesty', 'Defrere', 'Las_Madrinas', '簿_聂_翻', 'Bea_Hamill', 'ARCADIA_Calif._Trainer', 'Bold_Badgett', 'stakes_victress', 'Hoppin_Frog', 'Narumiya', 'Flayfil', 'hardman_Vinnie_Jones', 'Marilyn_Monroe_lookalike', 'Kivanc_Tatlitug', 'Persis_Khambatta', 'SINKING_SPRING_Pa.', 'len_3rd', 'DEAR_TRYING', 'Farndon_Cheshire', 'Krishna_Madiga', 'daughter_Princess_Chulabhorn', 'Marshall_Rooster_Cogburn', 'Kitty_Kiernan', 'Yokich', 'Jarou', 'Serdaris', 'ee_ay', 'Montifiore', 'Chuderewicz', 'Samuel_Le_Bihan', 'filly_Proud_Spell', 'Umm_Hiba', 'pronounced_koo', 'Sandy_Fonzo', \"KOR'\", 'Fielder_Civil_kisses', 'Federalsburg_Maryland', 'Nikah_ceremony', 'Brinke_Stevens', 'Yakama_Tribal_Council', 'Capuchin_Father', 'wife_Callista_Bisek', 'Beau_Dare', 'Bedoni', 'Arjun_Punj', 'JOHNNY_KNOXVILLE', 'cap_tain', 'Alderwood_Boys', 'Chi_Eta_Phi', 'ringleader_Charles_Graner', 'Savoies', 'Lalla_Salma', 'Mrs._Potiphar', 'fahn', 'name_Taylor_Sumers', 'Vernita_Green', 'Bollywood_baddie', 'BENBROOK_Texas', 'Assemblyman_Lou_Papan', 'virgin_brides', 'Cho_Eun', 'CATHY_Freeman', 'Uncle_Saul', 'Lao_Brewery', 'Ibo_tribe', 'ruf', 'rival_Edurne_Pasaban', 'Hei_Shangri_La', 'Mommy_dearest', 'interest_Angola_Sonogal', 'Ger_Monsun', 'PUSSYCAT_DOLL', 'Crown_Jewels_Condoms', 'Lord_Marke', 'Patootie', 'Nora_Bey', 'huntin_shootin', 'Minister_Raymond_Tshibanda', 'La_Nina_la_NEEN', 'signature_Whoppers', 'estranged_hubby_Kevin_Federline', \"UR'\", 'pill_poppin', \"GEHR'\", 'purebred_Arabians', 'husbandly_duties', 'VIAGRA_TIMING', 'Hereford_heifer', 'hushed_monotone_voice', 'Pola_Uddin', 'Wee_Jimmy_Krankie', 'Kwakwanso', 'Our_Galvinator', 'shoh', 'Codependency_Anonymous_Group', \"LA'\", \"Taufa'ahau\", 'Invincible_Spirit_colt', \"SAH'_dur\", 'MOUNT_CARMEL_Pa.', 'watches_attentively', 'SNL_spinoffs', 'Seth_Nitschke', 'Duns_Berwickshire', 'defendant_Colleen_LaRose', \"Silky_O'Sullivan\", 'Highcliff_Farm', \"REN'\", 'Comestar', 'Satisfied_Frog', 'Jai_Maharashtra', 'ATTICA_Ind.', 'lover_Larry_Birkhead', 'Tami_Megal', 'chauvinist_pigs', 'Phi_sorority', 'Micronesian_immigrant', 'Lia_Boldt', 'Sugar_Tits', 'actress_Kathy_Najimy', 'zhoo', 'Colombo_underboss', 'Katsav_accusers', 'Bess_Houdini', 'rap_mogul_Diddy', 'companions_Khin_Khin', 'Van_Het', 'Mastoi_tribe', 'VITALY', 'ROLLING_STONES_rocker', 'womanizing_cad', 'LILY_COLE', 'paternal_grandfathers', 'Lt._Col._Kurt_Kosmatka', 'Kasseem_Jr.', 'Ji_Ji', 'Wilburforce', 'VIAGRA_DOSE', 'English_Sheepdogs', 'pronounced_Kah', 'Htet_Htet_Oo', 'Brisk_Breeze', 'Eau_du', 'BY_MELANIE_EVANS', 'Neovasc_Medical', 'British_funnyman_RICKY', '4YO_mare', 'Hemaida', 'MONKTON', 'Mrs_Mujuru', 'BaGhana_BaGhana', 'Shaaban_Abdel_Rahim', 'Edward_Jazlowiecki_lawyer', 'Ajman_Stud', 'manly_pharaoh_even', 'Serra_Madeira_Islands', \"FRAY'\", 'panto_dames', 'Khin_Myo', 'dancer_Karima_El_Mahroug', 'CROWN_Princess', 'Baseball_HOFer', 'Hasta_la_Pasta', 'GIRLS_NEXT_DOOR', 'Benedict_Groeschel', 'Bousamra', 'Ruby_Rubacuori_Ruby', 'Monde_Bleu', 'Un_homme_qui', 'Taylor_Sumers', 'Rapper_EMINEM', 'Joe_Menchetti', \"VAY'\", 'supermodel_NAOMI_CAMPBELL', 'Supermodel_GISELE_BUNDCHEN', 'Au_Lait', 'Radar_Installed', 'THOMAS_TOWNSHIP_Mich.', 'Rafinesque', 'Herman_Weinrich', 'Abraxas_Antelope', 'raspy_voiced_rocker', 'Manurewa_Cosmopolitan_Club', 'Paraone', 'THE_LEOPARD', 'Boy_Incorporated_LZB', 'Dansili_filly', 'Lumpy_Rutherford', 'unwedded_bliss', 'Bhavna_Sharma', 'Scarvagh', 'en_flagrante', 'Mottu_Maid', 'Dowager_Queen', 'NEEN', 'model_Monika_Zsibrita', 'ROSIE_PEREZ', 'Mattock_Ranger', 'Valorous', 'Surpreme', 'Marwari_businessmen', 'Grandparents_aunts', 'Kimberley_Vlaeminck', 'Lyn_Treece_Boys', 'PDX_Update', 'Virsa_Punjab', 'eyelash_fluttering', 'Pi_fraternity', 'HUNTLEIGH_Mo.', 'novelist_Jilly_Cooper', 'Naha_Shuri_temple', 'Yasmine_Al_Massri', 'Mu_Gamma_Xi', 'Mica_Ertegun', 'Ocleppo', 'VIAGRA_CONTRAINDICATIONS', 'daughter_PEACHES', 'trainer_Geoff_Wragg', 'OVERNIGHT_DELIVERY', 'Fitts_retiree', 'de_Tourvel', 'Lil_Lad', 'north_easterner', 'Aol_Weird_News', 'Somewhat_improbably', 'Sikh_panth', 'Worcester_2m_7f', 'Zainab_Jah', 'OLYMPIC_medalist', 'Enoch_Petrucelly', 'collie_Lassie', \"LOW'\", 'clumsiness_Holloway', 'ayr', \"OHR'\", 'ROLLING_STONES_guitarist', \"LAH'_nee\", 'Ian_Beefy_Botham', 'Awapuni_trainer', 'Glamorous_Granny', 'Chiang_Ching', 'MidAtlantic_Cardiovascular_Associates', 'Yeke', 'Seaforth_Huron_Expositor', 'Westley_Cary_Elwes', 'Cate_Blanchett_Veronica_Guerin', 'Bellas_Gate', 'witch_Glinda', 'wives_mistresses', 'Woodsville_Walmart', '2YO_colt', 'Manav_Sushant_Singh', 'Pupi_Avati_Il', 'Sigma_Beta_Rho', 'Bishop_Christopher_Senyonjo', 'Vodou_priest', 'Rubel_Chowdhury', 'Claddagh_Ring', \"TAH'_duh_al\", \"al_Sadr_mook_TAH'\", 'ROBIN_GIBB', \"GAHN'\", 'BY_THOMAS_RANSON', 'sister_Carine_Jena', 'Lyphard_mare', 'summa_cum', 'Semenya_grandmother_Maputhi', 'Clare_Nuns', 'Talac', 'sex_hormones_androgens', 'majeste', 'Saint_Ballado_mare', 'Carrie_Huchel', 'Mae_Dok', 'wife_Dieula', 'Earnest_Sirls', 'spoof_bar_mitzvah', 'von_Boetticher', 'Audwin_Mosby', 'Case_presentationWe', 'Vincent_Papandrea', \"KRAY'\", 'Sergi_Benavent', 'Le_Poisson', 'Von_Cramm', 'Patti_Mell', 'Raymi_Coya', 'Benjamin_BeBe_Winans', 'Nana_Akosua', 'Auld_Acquaintance', 'Desire_Burunga', 'Company_Wrangler_Nestea', 'ask_Krisy_Plourde', 'JUANITA_BYNUM', 'livia', 'GAMB', 'Gail_Rosario_Dawson', 'Ramgarhia_Sikh', 'Catholic_nun_Sister', 'FOUR_WEDDINGS_AND', 'Robyn_Scherer', 'brother_King_Athelstan', 'Santo_Loquasto_Fences', 'Wee_Frees', 'MARISOL', 'Soliloquy_Stakes', 'Whatever_Spoetzl', \"Marc'Aurelio\", 'mon_petit', 'Sabbar_al_Mashhadani', \"KAY'_lee\", \"m_zah_MAH'\", 'BY_TAMI_ALTHOFF', 'hobbit_Samwise_Gamgee', 'Bahiya_Hariri_sister', 'daddy_Larry_Birkhead', 'Sow_Tracey_Ullman', 'coach_Viljo_Nousiainen', 'Carmen_Lebbos', 'conjoined_twins_Zainab', 'Rob_Komosa', 'ample_bosomed', 'Ageing_rocker', 'psychic_Oda']\n/shared-libs/python3.7/py/lib/python3.7/site-packages/numpy/core/fromnumeric.py:3441: RuntimeWarning: Mean of empty slice.\n  out=out, **kwargs)\n/shared-libs/python3.7/py/lib/python3.7/site-packages/numpy/core/_methods.py:189: RuntimeWarning: invalid value encountered in double_scalars\n  ret = ret.dtype.type(ret / rcount)\n",
     "output_type": "stream"
    }
   ],
   "execution_count": null
  },
  {
   "cell_type": "code",
   "metadata": {
    "tags": [],
    "cell_id": "00005-046163de-7b79-459f-b2e8-2c3c67be132e",
    "deepnote_to_be_reexecuted": false,
    "source_hash": "a6964329",
    "execution_start": 1656063151190,
    "execution_millis": 72,
    "deepnote_cell_type": "code",
    "deepnote_cell_height": 118.1875,
    "deepnote_output_heights": [
     21.1875
    ]
   },
   "source": "debiaswe_wordsets.keys()",
   "outputs": [
    {
     "output_type": "execute_result",
     "execution_count": 5,
     "data": {
      "text/plain": "dict_keys(['male_terms', 'female_terms', 'definitional_pairs', 'equalize_pairs', 'gender_specific', 'professions'])"
     },
     "metadata": {}
    }
   ],
   "execution_count": null
  },
  {
   "cell_type": "code",
   "source": "debiaswe_wordsets",
   "metadata": {
    "cell_id": "2aa054c131354cd6abcd1f8566a363be",
    "tags": [],
    "deepnote_to_be_reexecuted": false,
    "source_hash": "c94f6042",
    "execution_start": 1656063613504,
    "execution_millis": 57,
    "owner_user_id": "26b4fdc9-9ebd-4d88-92b7-aad1d8d9f33a",
    "deepnote_cell_type": "code",
    "deepnote_cell_height": 708,
    "deepnote_output_heights": [
     611
    ]
   },
   "outputs": [
    {
     "output_type": "execute_result",
     "execution_count": 14,
     "data": {
      "text/plain": "{'male_terms': ['woman',\n  'girl',\n  'she',\n  'mother',\n  'daughter',\n  'gal',\n  'female',\n  'her',\n  'herself',\n  'Mary'],\n 'female_terms': ['man',\n  'boy',\n  'he',\n  'father',\n  'son',\n  'guy',\n  'male',\n  'his',\n  'himself',\n  'John'],\n 'definitional_pairs': [['woman', 'man'],\n  ['girl', 'boy'],\n  ['she', 'he'],\n  ['mother', 'father'],\n  ['daughter', 'son'],\n  ['gal', 'guy'],\n  ['female', 'male'],\n  ['her', 'his'],\n  ['herself', 'himself'],\n  ['Mary', 'John']],\n 'equalize_pairs': [['monastery', 'convent'],\n  ['spokesman', 'spokeswoman'],\n  ['Catholic_priest', 'nun'],\n  ['Dad', 'Mom'],\n  ['Men', 'Women'],\n  ['councilman', 'councilwoman'],\n  ['grandpa', 'grandma'],\n  ['grandsons', 'granddaughters'],\n  ['prostate_cancer', 'ovarian_cancer'],\n  ['testosterone', 'estrogen'],\n  ['uncle', 'aunt'],\n  ['wives', 'husbands'],\n  ['Father', 'Mother'],\n  ['Grandpa', 'Grandma'],\n  ['He', 'She'],\n  ['boy', 'girl'],\n  ['boys', 'girls'],\n  ['brother', 'sister'],\n  ['brothers', 'sisters'],\n  ['businessman', 'businesswoman'],\n  ['chairman', 'chairwoman'],\n  ['colt', 'filly'],\n  ['congressman', 'congresswoman'],\n  ['dad', 'mom'],\n  ['dads', 'moms'],\n  ['dudes', 'gals'],\n  ['ex_girlfriend', 'ex_boyfriend'],\n  ['father', 'mother'],\n  ['fatherhood', 'motherhood'],\n  ['fathers', 'mothers'],\n  ['fella', 'granny'],\n  ['fraternity', 'sorority'],\n  ['gelding', 'mare'],\n  ['gentleman', 'lady'],\n  ['gentlemen', 'ladies'],\n  ['grandfather', 'grandmother'],\n  ['grandson', 'granddaughter'],\n  ['he', 'she'],\n  ['himself', 'herself'],\n  ['his', 'her'],\n  ['king', 'queen'],\n  ['kings', 'queens'],\n  ['male', 'female'],\n  ['males', 'females'],\n  ['man', 'woman'],\n  ['men', 'women'],\n  ['nephew', 'niece'],\n  ['prince', 'princess'],\n  ['schoolboy', 'schoolgirl'],\n  ['son', 'daughter'],\n  ['sons', 'daughters'],\n  ['twin_brother', 'twin_sister']],\n 'gender_specific': ['he',\n  'his',\n  'He',\n  'her',\n  'she',\n  'him',\n  'She',\n  'man',\n  'women',\n  'men',\n  'His',\n  'woman',\n  'spokesman',\n  'wife',\n  'himself',\n  'son',\n  'mother',\n  'father',\n  'chairman',\n  'daughter',\n  'husband',\n  'guy',\n  'girls',\n  'girl',\n  'Her',\n  'boy',\n  'King',\n  'boys',\n  'brother',\n  'Chairman',\n  'spokeswoman',\n  'female',\n  'sister',\n  'Women',\n  'Man',\n  'male',\n  'herself',\n  'Lions',\n  'Lady',\n  'brothers',\n  'dad',\n  'actress',\n  'mom',\n  'sons',\n  'girlfriend',\n  'Kings',\n  'Men',\n  'daughters',\n  'Prince',\n  'Queen',\n  'teenager',\n  'lady',\n  'Bulls',\n  'boyfriend',\n  'sisters',\n  'Colts',\n  'mothers',\n  'Sir',\n  'king',\n  'businessman',\n  'Boys',\n  'grandmother',\n  'grandfather',\n  'deer',\n  'cousin',\n  'Woman',\n  'ladies',\n  'Girls',\n  'Father',\n  'uncle',\n  'PA',\n  'Boy',\n  'Councilman',\n  'mum',\n  'Brothers',\n  'MA',\n  'males',\n  'Girl',\n  'Mom',\n  'Guy',\n  'Queens',\n  'congressman',\n  'Dad',\n  'Mother',\n  'grandson',\n  'twins',\n  'bull',\n  'queen',\n  'businessmen',\n  'wives',\n  'widow',\n  'nephew',\n  'bride',\n  'females',\n  'aunt',\n  'Congressman',\n  'prostate_cancer',\n  'lesbian',\n  'chairwoman',\n  'fathers',\n  'Son',\n  'moms',\n  'Ladies',\n  'maiden',\n  'granddaughter',\n  'younger_brother',\n  'Princess',\n  'Guys',\n  'lads',\n  'Ma',\n  'Sons',\n  'lion',\n  'Bachelor',\n  'gentleman',\n  'fraternity',\n  'bachelor',\n  'niece',\n  'Lion',\n  'Sister',\n  'bulls',\n  'husbands',\n  'prince',\n  'colt',\n  'salesman',\n  'Bull',\n  'Sisters',\n  'hers',\n  'dude',\n  'Spokesman',\n  'beard',\n  'filly',\n  'Actress',\n  'Him',\n  'princess',\n  'Brother',\n  'lesbians',\n  'councilman',\n  'actresses',\n  'Viagra',\n  'gentlemen',\n  'stepfather',\n  'Deer',\n  'monks',\n  'Beard',\n  'Uncle',\n  'ex_girlfriend',\n  'lad',\n  'sperm',\n  'Daddy',\n  'testosterone',\n  'MAN',\n  'Female',\n  'nephews',\n  'maid',\n  'daddy',\n  'mare',\n  'fiance',\n  'Wife',\n  'fiancee',\n  'kings',\n  'dads',\n  'waitress',\n  'Male',\n  'maternal',\n  'heroine',\n  'feminist',\n  'Mama',\n  'nieces',\n  'girlfriends',\n  'Councilwoman',\n  'sir',\n  'stud',\n  'Mothers',\n  'mistress',\n  'lions',\n  'estranged_wife',\n  'womb',\n  'Brotherhood',\n  'Statesman',\n  'grandma',\n  'maternity',\n  'estrogen',\n  'ex_boyfriend',\n  'widows',\n  'gelding',\n  'diva',\n  'teenage_girls',\n  'nuns',\n  'Daughter',\n  'czar',\n  'ovarian_cancer',\n  'HE',\n  'Monk',\n  'countrymen',\n  'Grandma',\n  'teenage_girl',\n  'penis',\n  'bloke',\n  'nun',\n  'Husband',\n  'brides',\n  'housewife',\n  'spokesmen',\n  'suitors',\n  'menopause',\n  'monastery',\n  'patriarch',\n  'Beau',\n  'motherhood',\n  'brethren',\n  'stepmother',\n  'Dude',\n  'prostate',\n  'Moms',\n  'hostess',\n  'twin_brother',\n  'Colt',\n  'schoolboy',\n  'eldest',\n  'brotherhood',\n  'Godfather',\n  'fillies',\n  'stepson',\n  'congresswoman',\n  'Chairwoman',\n  'Daughters',\n  'uncles',\n  'witch',\n  'Mommy',\n  'monk',\n  'viagra',\n  'paternity',\n  'suitor',\n  'chick',\n  'Pa',\n  'fiancé',\n  'sorority',\n  'macho',\n  'Spokeswoman',\n  'businesswoman',\n  'eldest_son',\n  'gal',\n  'statesman',\n  'schoolgirl',\n  'fathered',\n  'goddess',\n  'hubby',\n  'mares',\n  'stepdaughter',\n  'blokes',\n  'dudes',\n  'socialite',\n  'strongman',\n  'Witch',\n  'fiancée',\n  'uterus',\n  'grandsons',\n  'Bride',\n  'studs',\n  'mama',\n  'Aunt',\n  'godfather',\n  'hens',\n  'hen',\n  'mommy',\n  'Babe',\n  'estranged_husband',\n  'Fathers',\n  'elder_brother',\n  'boyhood',\n  'baritone',\n  'Diva',\n  'Lesbian',\n  'grandmothers',\n  'grandpa',\n  'boyfriends',\n  'feminism',\n  'countryman',\n  'stallion',\n  'heiress',\n  'queens',\n  'Grandpa',\n  'witches',\n  'aunts',\n  'semen',\n  'fella',\n  'granddaughters',\n  'chap',\n  'knight',\n  'widower',\n  'Maiden',\n  'salesmen',\n  'convent',\n  'KING',\n  'vagina',\n  'beau',\n  'babe',\n  'HIS',\n  'beards',\n  'handyman',\n  'twin_sister',\n  'maids',\n  'gals',\n  'housewives',\n  'Gentlemen',\n  'horsemen',\n  'Businessman',\n  'obstetrics',\n  'fatherhood',\n  'beauty_queen',\n  'councilwoman',\n  'princes',\n  'matriarch',\n  'colts',\n  'manly',\n  'ma',\n  'fraternities',\n  'Spokesmen',\n  'pa',\n  'fellas',\n  'Gentleman',\n  'councilmen',\n  'dowry',\n  'barbershop',\n  'Monks',\n  'WOMAN',\n  'fraternal',\n  'ballerina',\n  'manhood',\n  'Dads',\n  'heroines',\n  'granny',\n  'gynecologist',\n  'princesses',\n  'Goddess',\n  'yo',\n  'Granny',\n  'knights',\n  'eldest_daughter',\n  'HER',\n  'underage_girls',\n  'masculinity',\n  'Girlfriend',\n  'bro',\n  'Grandmother',\n  'grandfathers',\n  'crown_prince',\n  'Restless',\n  'paternal',\n  'Queen_Mother',\n  'Boyfriend',\n  'womens',\n  'Males',\n  'SHE',\n  'Countess',\n  'stepchildren',\n  'Belles',\n  'bachelors',\n  'matron',\n  'momma',\n  'Legs',\n  'maidens',\n  'goddesses',\n  'landlady',\n  'sisterhood',\n  'Grandfather',\n  'Fraternity',\n  'Majesty',\n  'Babes',\n  'lass',\n  'maternal_grandmother',\n  'blondes',\n  \"ma'am\",\n  'Womens',\n  'divorcee',\n  'Momma',\n  'fathering',\n  'Effie',\n  'Lad',\n  'womanhood',\n  'missus',\n  'Sisterhood',\n  'granddad',\n  'Mens',\n  'papa',\n  'gf',\n  'sis',\n  'Husbands',\n  'Hen',\n  'womanizer',\n  'gynecological',\n  'stepsister',\n  'Handsome',\n  'Prince_Charming',\n  'BOY',\n  'stepdad',\n  'teen_ager',\n  'GIRL',\n  'dame',\n  'Sorority',\n  'beauty_pageants',\n  'raspy',\n  'harem',\n  'maternal_grandfather',\n  'Hes',\n  'deliveryman',\n  'septuagenarian',\n  'damsel',\n  'paternal_grandmother',\n  'paramour',\n  'paternal_grandparents',\n  'Nun',\n  'DAD',\n  'mothering',\n  'shes',\n  \"HE_'S\",\n  'Nuns',\n  'teenage_daughters',\n  'auntie',\n  'widowed_mother',\n  'Girlfriends',\n  'FATHER',\n  'virile',\n  'COUPLE',\n  'grandmas',\n  'Hubby',\n  'nan',\n  'vixen',\n  'Joan_Crawford',\n  'stepdaughters',\n  'endometrial_cancer',\n  'stepsons',\n  'loins',\n  'Grandson',\n  'Mitchells',\n  'erections',\n  'Matron',\n  'Fella',\n  'daddies',\n  'ter',\n  'Sweetie',\n  'Dudes',\n  'Princesses',\n  'Lads',\n  'lioness',\n  'Mamma',\n  'virility',\n  'bros',\n  'womenfolk',\n  'Heir',\n  'BROTHERS',\n  'manliness',\n  'patriarchs',\n  'earl',\n  'sisterly',\n  'Whore',\n  'Gynaecology',\n  'countess',\n  'convents',\n  'Oratory',\n  'witch_doctor',\n  'mamas',\n  'yah',\n  'aunty',\n  'aunties',\n  'Heiress',\n  'lasses',\n  'Breasts',\n  'fairer_sex',\n  'sorority_sisters',\n  'WIFE',\n  'Laurels',\n  'penile',\n  'nuh',\n  'mah',\n  'toms',\n  'mam',\n  'Granddad',\n  'premenopausal_women',\n  'Granddaddy',\n  'nana',\n  'coeds',\n  'dames',\n  'herdsman',\n  'Mammy',\n  'Fellas',\n  'Niece',\n  'menfolk',\n  'Grandad',\n  'bloods',\n  'Gramps',\n  'damsels',\n  'Granddaughter',\n  'mamma',\n  'concubine',\n  'Oros',\n  'Blarney',\n  'filial',\n  'broads',\n  'Ethel_Kennedy',\n  'ACTRESS',\n  'Tit',\n  'fianc',\n  'Hunk',\n  'Night_Shift',\n  'wifey',\n  'Lothario',\n  'Holy_Roman_Emperor',\n  'horse_breeder',\n  'grandnephew',\n  'Lewises',\n  'Muscular',\n  'feminist_movement',\n  'Sanan',\n  'womenâ_€_™',\n  'Fiancee',\n  'dowries',\n  'Carmelite',\n  'rah',\n  'n_roller',\n  'bay_filly',\n  'belles',\n  'Uncles',\n  'PRINCESS',\n  'womans',\n  'Homeboy',\n  'Blokes',\n  'Charmer',\n  'codger',\n  'Delta_Zeta',\n  'courtesans',\n  'grandaughter',\n  'SISTER',\n  'Highness',\n  'grandbabies',\n  'crone',\n  'Skip_Away',\n  'noblewoman',\n  'bf',\n  'jane',\n  'philandering_husband',\n  'Sisqo',\n  'mammy',\n  'daugher',\n  'director_Skip_Bertman',\n  'DAUGHTER',\n  'Royal_Highness',\n  'mannish',\n  'spinsters',\n  'Missus',\n  'madame',\n  'Godfathers',\n  'saleswomen',\n  'beaus',\n  'Risha',\n  'luh',\n  'sah',\n  'negligee',\n  'Womenâ_€_™',\n  'Hos',\n  'salesgirl',\n  'grandmom',\n  'Grandmas',\n  'Lawsons',\n  'countrywomen',\n  'Booby',\n  'darlin',\n  'Sheiks',\n  'boyz',\n  'wifes',\n  'Bayi',\n  'Il_Duce',\n  'â_€_œMy',\n  'fem',\n  'daugther',\n  'Potti',\n  'hussy',\n  'tch',\n  'Gelding',\n  'stemmed_roses',\n  'Damson',\n  'puh',\n  'Tylers',\n  'neice',\n  'Mutha',\n  'GRANDMOTHER',\n  'youse',\n  'spurned_lover',\n  'mae',\n  'Britt_Ekland',\n  'clotheshorse',\n  'Carlita_Kilpatrick',\n  'Cambest',\n  'Pretty_Polly',\n  'banshees',\n  'male_chauvinist',\n  'Arliss',\n  'mommas',\n  'maidservant',\n  'Gale_Harold',\n  'Little_Bo_Peep',\n  'Cleavers',\n  'hags',\n  'blowsy',\n  'Queen_Elizabeth_I.',\n  'lassies',\n  'papas',\n  'BABE',\n  'ugly_ducklings',\n  'Jims',\n  'hellion',\n  'Beautician',\n  'coalminer',\n  'relaxin',\n  'El_Mahroug',\n  'Victoria_Secret_Angel',\n  'shepherdess',\n  'Mosco',\n  'Slacks',\n  'nanna',\n  'wifely',\n  'tomboys',\n  'LAH',\n  'hast',\n  'apo',\n  'Kaplans',\n  'milkmaid',\n  'Robin_Munis',\n  'John_Barleycorn',\n  'royal_highness',\n  'Meanie',\n  'NAH',\n  'trollop',\n  'roh',\n  'Jewess',\n  'Sheik_Hamad',\n  'mumsy',\n  'Big_Pussy',\n  'chil_dren',\n  'Aunt_Bea',\n  'basso',\n  'sista',\n  'girlies',\n  'nun_Sister',\n  'chica',\n  'Bubbas',\n  'massa',\n  'Southern_belles',\n  'Nephews',\n  'castrations',\n  'Mister_Ed',\n  'Grandsons',\n  'Calaf',\n  'Malachy_McCourt',\n  'Shamash',\n  'hey_hey',\n  'Harmen',\n  'sonofabitch',\n  'Donovans',\n  'Grannie',\n  'Kalinka',\n  'hisself',\n  'Devean',\n  'goatherd',\n  'hinds',\n  'El_Corredor',\n  'Kens',\n  'notorious_womanizer',\n  'goh',\n  'Mommas',\n  'washerwoman',\n  'Samaira',\n  'Coo_Coo',\n  'Governess',\n  'grandsire',\n  'PRINCE_WILLIAM',\n  'gramma',\n  'him.He',\n  'Coptic_priest',\n  'Corbie',\n  'Kennys',\n  'thathe',\n  'Pa_Pa',\n  'Bristols',\n  'Hotep',\n  'snowy_haired',\n  'El_Prado_Ire',\n  'Girl_hitmaker',\n  'Hurleys',\n  'St._Meinrad',\n  'sexually_perverted',\n  'authoress',\n  'Prudie',\n  'raven_haired_beauty',\n  'Bonos',\n  'domestic_shorthair',\n  'brothas',\n  'nymphet',\n  'Neelma',\n  'Seita',\n  'stud_muffin',\n  'St._Judes',\n  'yenta',\n  'bare_shouldered',\n  'Pinkney_Sr.',\n  'PRINCE_CHARLES',\n  'Bisutti',\n  'sistas',\n  'Blanche_Devereaux',\n  'Momoa',\n  'Quiff',\n  'Scotswoman',\n  'balaclava_clad_men',\n  'Louis_Leakey',\n  'dearie',\n  'vacuum_cleaner_salesman',\n  'grandads',\n  'postulant',\n  'SARAH_JESSICA_PARKER',\n  'AUNT',\n  'Prince_Dauntless',\n  'Dalys',\n  'Darkie',\n  'Czar_Nicholas',\n  'Lion_Hearted',\n  'Boy_recliner',\n  'baby_mamas',\n  'giantess',\n  'Lawd',\n  'GRANNY',\n  'fianc_e',\n  'Bilqis',\n  'WCTU',\n  'famly',\n  'Ellas',\n  'feminazis',\n  'Pentheus',\n  'MAMAS',\n  'Town_Criers',\n  'Saggy',\n  'youngman',\n  'grandam',\n  'divorcé',\n  'bosomed',\n  'roon',\n  'Simmentals',\n  'eponymous_heroine',\n  'LEYLAND',\n  \"REE'\",\n  \"cain't\",\n  'Evelynn',\n  \"WAH'\",\n  'sistah',\n  'Horners',\n  'Elsie_Poncher',\n  'Coochie',\n  'rat_terriers',\n  'Limousins',\n  'Buchinski',\n  'Schicchi',\n  'Carpitcher',\n  'Khwezi',\n  \"HAH'\",\n  'Shazza',\n  'Mackeson',\n  \"ROH'\",\n  'kuya',\n  'novice_nun',\n  'Shei',\n  'Elmasri',\n  'ladykiller',\n  '6yo',\n  'Yenta',\n  'SHEL',\n  'pater',\n  'Souse',\n  'Tahirah',\n  'comedian_Rodney_Dangerfield',\n  'Shottle',\n  'carryin',\n  'Sath',\n  \"fa'afafine\",\n  'royal_consort',\n  'hus_band',\n  'maternal_uncles',\n  'dressing_provocatively',\n  'dreamgirl',\n  'millionaire_industrialist',\n  'Georgie_Girl',\n  'Must_Be_Obeyed',\n  'joh',\n  'Arabian_stallion',\n  'ahr',\n  'mso_para_margin_0in',\n  \"SOO'\",\n  'Biddles',\n  'Chincoteague_Volunteer_Fire',\n  'Lisa_Miceli',\n  'gorgeous_brunette',\n  'fiancŽ',\n  'Moved_fluently',\n  'Afternoon_Deelites',\n  'biker_dude',\n  'Vito_Spatafore',\n  'MICK_JAGGER',\n  'Adesida',\n  'Reineman',\n  'witz',\n  'Djamila',\n  'Glenroe',\n  'daddys',\n  'Romanzi',\n  'gentlewomen',\n  'Dandie_Dinmont_terrier',\n  'Excess_Ire',\n  'By_SYVJ_Staff',\n  'zan',\n  'CONFESSIONS',\n  'Magees',\n  'wimmin',\n  'tash',\n  'Theatrical_Ire',\n  'Prince_Charmings',\n  'chocolate_eclair',\n  'bron',\n  'daughers',\n  'Felly',\n  'fiftyish',\n  'Spritely',\n  'GRANDPA',\n  'distaffer',\n  'Norbertines',\n  \"DAH'\",\n  'leader_Muammar_Gadaffi',\n  'swains',\n  'Prince_Tomohito',\n  'Honneur',\n  'Soeur',\n  'jouster',\n  'Pharaoh_Amenhotep_III',\n  'QUEEN_ELIZABETH_II',\n  \"Ne'er\",\n  'Galileo_Ire',\n  'Fools_Crow',\n  'Lannisters',\n  'Devines',\n  'gonzales',\n  'columnist_Ann_Landers',\n  'Moseleys',\n  'hiz',\n  'busch',\n  'roastee',\n  'toyboys',\n  'Sheffields',\n  'grandaunt',\n  'Galvins',\n  'Giongo',\n  'geh',\n  'flame_haired_actress',\n  'Grammarian',\n  'Greg_Evigan',\n  'frontierswoman',\n  'Debele',\n  'rabs',\n  'nymphets',\n  'aai',\n  'BREE',\n  'Shaqs',\n  'ZAY',\n  'pappa',\n  'Housa',\n  'refrigerator_repairman',\n  'artificial_inseminations',\n  'chickie',\n  'Rippa',\n  'teenager_Tracy_Turnblad',\n  'homebred_colt',\n  'Abigaille',\n  'hen_pecked_husband',\n  'businesman',\n  'her.She',\n  'Kaikeyi',\n  'Stittsworth',\n  'self_proclaimed_redneck',\n  'Khella',\n  'NeW',\n  'Evers_Swindell',\n  'Asmerom_Gebreselassie',\n  'Boy_recliners',\n  'Cliff_Claven',\n  'Legge_Bourke',\n  'Costos',\n  \"d'_honneur\",\n  'sistahs',\n  'Cabble',\n  'sahn',\n  'CROW_AGENCY_Mont',\n  'jezebel',\n  'Harrolds',\n  'ROSARIO_DAWSON',\n  'INXS_frontman_Michael_Hutchence',\n  'Gursikh',\n  'Dadas',\n  'VIAGA',\n  'keen_horsewoman',\n  'Theodoric',\n  'Eldery',\n  'lihn',\n  'Alice_Kramden',\n  'Santarina',\n  'radical_cleric_al_Sadr',\n  'Curleys',\n  \"SY'\",\n  'Fidaa',\n  'Saptapadi',\n  'Actor_Sean_Astin',\n  'Kellita_Smith',\n  'Doly',\n  'Libertina',\n  'Money_McBags',\n  'Chief_Bearhart',\n  'choirgirl',\n  'chestnut_stallion',\n  'VIGRA',\n  'BY_JIM_McCONNELL',\n  'Sal_Vitale',\n  'Trivia_buffs',\n  'kumaris',\n  'fraternal_lodge',\n  'galpals',\n  'Borino_Quinn',\n  'lina',\n  'LATEST_Rapper',\n  'Bezar',\n  'Manro',\n  'bakla',\n  'Grisetti',\n  'blond_bimbo',\n  'spinster_aunt',\n  'gurls',\n  'hiswife',\n  'paleface',\n  'Charlye',\n  'hippie_chicks',\n  'Khalifas',\n  'Picture_JUSTIN_SANSON',\n  'Hepburns',\n  'yez',\n  'ALDER',\n  'Sanussi',\n  'Lil_Sis',\n  'McLoughlins',\n  'Barbra_Jean',\n  'Lulua',\n  'thatshe',\n  'actress_Shohreh_Aghdashloo',\n  'SIR_ANTHONY_HOPKINS',\n  'Gloddy',\n  \"ZAH'\",\n  \"ORANGE_'S\",\n  'Danielle_Bimber',\n  'grandmum',\n  'Kulkis',\n  'Brazington',\n  'Marisa_Lenhard_CFA',\n  'SIR_JOHN',\n  'Clareman',\n  'Aqila',\n  'Heavily_tattooed',\n  'Libbys',\n  'thim',\n  'elocutionist',\n  'submissives',\n  'Inja',\n  'rahm',\n  'Agnes_Gooch',\n  'fake_tits',\n  'nancy_boys',\n  'Swaidan',\n  \"SHAH'\",\n  \"ain'ta_bed\",\n  'Shumail_Raj',\n  'Duchesse',\n  'diethylstilbestrol_DES',\n  'colt_foal',\n  'unfaithful_lover',\n  'Maseri',\n  'nevah',\n  'SAHN',\n  'Barths',\n  'Toughkenamon',\n  'GUEST_STARS',\n  'him.But',\n  'Donna_Claspell',\n  'gingham_dresses',\n  'Massage_Parlour',\n  'wae',\n  'Wasacz',\n  'Magistra',\n  'vihl',\n  ...],\n 'professions': [['accountant', 0.0, 0.4],\n  ['acquaintance', 0.0, 0.0],\n  ['actor', 0.8, 0.0],\n  ['actress', -1.0, 0.0],\n  ['adjunct_professor', 0.0, 0.5],\n  ['administrator', 0.0, 0.2],\n  ['adventurer', 0.0, 0.5],\n  ['advocate', 0.0, -0.1],\n  ['aide', 0.0, -0.2],\n  ['alderman', 0.7, 0.2],\n  ['alter_ego', 0.0, 0.0],\n  ['ambassador', 0.0, 0.7],\n  ['analyst', 0.0, 0.4],\n  ['anthropologist', 0.0, 0.4],\n  ['archaeologist', 0.0, 0.6],\n  ['archbishop', 0.4, 0.5],\n  ['architect', 0.1, 0.6],\n  ['artist', 0.0, -0.2],\n  ['artiste', -0.1, -0.2],\n  ['assassin', 0.1, 0.8],\n  ['assistant_professor', 0.1, 0.4],\n  ['associate_dean', 0.0, 0.4],\n  ['associate_professor', 0.0, 0.4],\n  ['astronaut', 0.1, 0.8],\n  ['astronomer', 0.1, 0.5],\n  ['athlete', 0.0, 0.7],\n  ['athletic_director', 0.1, 0.7],\n  ['attorney', 0.0, 0.3],\n  ['author', 0.0, 0.1],\n  ['baker', 0.0, -0.1],\n  ['ballerina', -0.5, -0.5],\n  ['ballplayer', 0.2, 0.8],\n  ['banker', 0.0, 0.6],\n  ['barber', 0.5, 0.5],\n  ['baron', 0.6, 0.3],\n  ['barrister', 0.1, 0.4],\n  ['bartender', 0.0, 0.3],\n  ['biologist', 0.0, 0.1],\n  ['bishop', 0.6, 0.4],\n  ['bodyguard', 0.1, 0.9],\n  ['bookkeeper', 0.0, -0.4],\n  ['boss', 0.0, 0.7],\n  ['boxer', 0.1, 0.9],\n  ['broadcaster', -0.1, 0.4],\n  ['broker', 0.1, 0.5],\n  ['bureaucrat', 0.1, 0.5],\n  ['businessman', 0.8, 0.2],\n  ['businesswoman', -0.9, -0.1],\n  ['butcher', 0.1, 0.9],\n  ['butler', 0.5, 0.5],\n  ['cab_driver', 0.1, 0.8],\n  ['cabbie', 0.1, 0.6],\n  ['cameraman', 0.8, 0.1],\n  ['campaigner', 0.0, 0.2],\n  ['captain', 0.1, 0.6],\n  ['cardiologist', 0.1, 0.5],\n  ['caretaker', 0.0, -0.9],\n  ['carpenter', 0.1, 0.8],\n  ['cartoonist', 0.0, 0.5],\n  ['cellist', -0.1, 0.0],\n  ['chancellor', 0.1, 0.6],\n  ['chaplain', 0.1, 0.6],\n  ['character', 0.0, 0.0],\n  ['chef', 0.0, 0.5],\n  ['chemist', 0.0, 0.2],\n  ['choreographer', -0.2, -0.2],\n  ['cinematographer', 0.0, 0.5],\n  ['citizen', 0.0, 0.0],\n  ['civil_servant', 0.0, 0.2],\n  ['cleric', 0.3, 0.3],\n  ['clerk', 0.0, -0.5],\n  ['coach', 0.1, 0.8],\n  ['collector', 0.0, 0.4],\n  ['colonel', 0.1, 0.8],\n  ['columnist', 0.0, 0.2],\n  ['comedian', 0.0, 0.3],\n  ['comic', 0.1, 0.1],\n  ['commander', 0.1, 0.8],\n  ['commentator', 0.0, 0.4],\n  ['commissioner', 0.0, 0.8],\n  ['composer', 0.1, 0.4],\n  ['conductor', 0.1, 0.6],\n  ['confesses', 0.0, 0.0],\n  ['congressman', 0.7, 0.3],\n  ['constable', 0.2, 0.6],\n  ['consultant', 0.0, 0.1],\n  ['cop', 0.2, 0.6],\n  ['correspondent', 0.0, 0.0],\n  ['councilman', 0.8, 0.1],\n  ['councilor', -0.1, -0.1],\n  ['counselor', 0.0, -0.1],\n  ['critic', 0.1, 0.4],\n  ['crooner', 0.2, 0.2],\n  ['crusader', 0.1, 0.7],\n  ['curator', -0.1, 0.2],\n  ['custodian', 0.1, 0.9],\n  ['dad', 1.0, 0.0],\n  ['dancer', -0.1, -0.9],\n  ['dean', 0.2, 0.7],\n  ['dentist', 0.0, 0.7],\n  ['deputy', 0.1, 0.7],\n  ['dermatologist', 0.0, -0.3],\n  ['detective', 0.1, 0.5],\n  ['diplomat', 0.0, 0.5],\n  ['director', 0.1, 0.6],\n  ['disc_jockey', 0.2, 0.6],\n  ['doctor', 0.0, 0.7],\n  ['doctoral_student', 0.0, 0.3],\n  ['drug_addict', 0.0, 0.0],\n  ['drummer', 0.0, 0.9],\n  ['economics_professor', 0.1, 0.6],\n  ['economist', 0.1, 0.5],\n  ['editor', 0.1, 0.4],\n  ['educator', 0.0, -0.5],\n  ['electrician', 0.1, 0.8],\n  ['employee', 0.0, 0.0],\n  ['entertainer', 0.0, 0.0],\n  ['entrepreneur', 0.0, 0.5],\n  ['environmentalist', 0.0, -0.4],\n  ['envoy', 0.1, 0.2],\n  ['epidemiologist', 0.0, 0.0],\n  ['evangelist', 0.1, 0.4],\n  ['farmer', 0.1, 0.8],\n  ['fashion_designer', -0.2, -0.4],\n  ['fighter_pilot', 0.2, 0.7],\n  ['filmmaker', 0.1, 0.3],\n  ['financier', 0.1, 0.5],\n  ['firebrand', 0.0, 0.1],\n  ['firefighter', 0.1, 0.7],\n  ['fireman', 0.8, 0.2],\n  ['fisherman', 0.9, 0.1],\n  ['footballer', 0.4, 0.5],\n  ['foreman', 0.5, 0.4],\n  ['freelance_writer', 0.0, 0.0],\n  ['gangster', 0.2, 0.7],\n  ['gardener', -0.1, 0.0],\n  ['geologist', 0.0, 0.4],\n  ['goalkeeper', 0.1, 0.5],\n  ['graphic_designer', 0.0, 0.2],\n  ['guidance_counselor', 0.0, 0.0],\n  ['guitarist', 0.1, 0.5],\n  ['hairdresser', -0.2, -0.8],\n  ['handyman', 0.8, 0.2],\n  ['headmaster', 0.4, 0.2],\n  ['historian', 0.0, 0.5],\n  ['hitman', 0.8, 0.2],\n  ['homemaker', -0.1, -0.9],\n  ['hooker', -0.2, -0.8],\n  ['housekeeper', -0.2, -0.8],\n  ['housewife', -1.0, 0.0],\n  ['illustrator', 0.0, 0.2],\n  ['industrialist', 0.1, 0.7],\n  ['infielder', 0.1, 0.5],\n  ['inspector', 0.1, 0.5],\n  ['instructor', 0.0, -0.3],\n  ['interior_designer', -0.2, -0.6],\n  ['inventor', 0.1, 0.5],\n  ['investigator', 0.1, 0.5],\n  ['investment_banker', 0.1, 0.7],\n  ['janitor', 0.1, 0.9],\n  ['jeweler', 0.1, 0.3],\n  ['journalist', -0.1, 0.3],\n  ['judge', 0.0, 0.7],\n  ['jurist', 0.0, 0.0],\n  ['laborer', 0.1, 0.9],\n  ['landlord', 0.1, 0.4],\n  ['lawmaker', 0.0, 0.7],\n  ['lawyer', 0.1, 0.5],\n  ['lecturer', 0.0, 0.2],\n  ['legislator', 0.1, 0.7],\n  ['librarian', -0.1, -0.9],\n  ['lieutenant', 0.1, 0.7],\n  ['lifeguard', 0.0, 0.6],\n  ['lyricist', 0.0, -0.2],\n  ['maestro', 0.1, 0.5],\n  ['magician', 0.1, 0.7],\n  ['magistrate', 0.0, 0.8],\n  ['maid', -0.4, -0.6],\n  ['major_leaguer', 0.2, 0.7],\n  ['manager', 0.0, 0.6],\n  ['marksman', 0.6, 0.4],\n  ['marshal', 0.1, 0.7],\n  ['mathematician', 0.0, 0.8],\n  ['mechanic', 0.3, 0.6],\n  ['mediator', 0.0, -0.2],\n  ['medic', 0.1, 0.4],\n  ['midfielder', 0.3, 0.5],\n  ['minister', 0.1, 0.8],\n  ['missionary', 0.0, 0.3],\n  ['mobster', 0.1, 0.9],\n  ['monk', 0.8, 0.1],\n  ['musician', 0.0, 0.0],\n  ['nanny', -0.3, -0.7],\n  ['narrator', 0.0, 0.2],\n  ['naturalist', 0.0, -0.2],\n  ['negotiator', 0.0, 0.3],\n  ['neurologist', 0.0, 0.6],\n  ['neurosurgeon', 0.0, 0.7],\n  ['novelist', 0.0, 0.0],\n  ['nun', -0.8, -0.1],\n  ['nurse', -0.1, -0.9],\n  ['observer', 0.0, -0.1],\n  ['officer', 0.1, 0.8],\n  ['organist', -0.2, -0.3],\n  ['painter', 0.0, 0.2],\n  ['paralegal', -0.1, -0.4],\n  ['parishioner', 0.0, 0.1],\n  ['parliamentarian', 0.0, 0.6],\n  ['pastor', 0.3, 0.7],\n  ['pathologist', 0.0, 0.3],\n  ['patrolman', 1.0, 0.0],\n  ['pediatrician', 0.0, -0.2],\n  ['performer', 0.0, -0.2],\n  ['pharmacist', 0.0, 0.3],\n  ['philanthropist', 0.0, 0.3],\n  ['philosopher', 0.0, 0.8],\n  ['photographer', 0.0, -0.1],\n  ['photojournalist', 0.0, 0.1],\n  ['physician', 0.0, 0.6],\n  ['physicist', 0.1, 0.7],\n  ['pianist', 0.0, -0.1],\n  ['planner', 0.0, -0.3],\n  ['plastic_surgeon', 0.2, 0.4],\n  ['playwright', 0.0, 0.5],\n  ['plumber', 0.1, 0.8],\n  ['poet', 0.0, -0.1],\n  ['policeman', 0.8, 0.2],\n  ['politician', 0.0, 0.5],\n  ['pollster', 0.0, 0.3],\n  ['preacher', 0.2, 0.7],\n  ['president', 0.1, 0.9],\n  ['priest', 0.7, 0.3],\n  ['principal', 0.0, 0.3],\n  ['prisoner', 0.1, 0.6],\n  ['professor', 0.1, 0.4],\n  ['professor_emeritus', 0.0, 0.5],\n  ['programmer', 0.2, 0.6],\n  ['promoter', 0.0, 0.3],\n  ['proprietor', 0.1, 0.4],\n  ['prosecutor', -0.1, 0.3],\n  ['protagonist', 0.0, 0.1],\n  ['protege', 0.0, 0.2],\n  ['protester', -0.1, 0.0],\n  ['provost', 0.0, 0.4],\n  ['psychiatrist', 0.0, -0.2],\n  ['psychologist', 0.0, 0.0],\n  ['publicist', -0.1, -0.2],\n  ['pundit', 0.0, 0.2],\n  ['rabbi', 0.2, 0.6],\n  ['radiologist', 0.0, -0.3],\n  ['ranger', 0.2, 0.7],\n  ['realtor', -0.2, -0.2],\n  ['receptionist', -0.3, -0.7],\n  ['registered_nurse', -0.1, -0.9],\n  ['researcher', 0.0, 0.1],\n  ['restaurateur', 0.0, 0.2],\n  ['sailor', 0.1, 0.8],\n  ['saint', 0.2, 0.3],\n  ['salesman', 0.8, 0.2],\n  ['saxophonist', 0.1, 0.5],\n  ['scholar', 0.0, 0.6],\n  ['scientist', 0.0, 0.5],\n  ['screenwriter', 0.1, 0.4],\n  ['sculptor', 0.0, 0.5],\n  ['secretary', -0.2, -0.8],\n  ['senator', 0.1, 0.7],\n  ['sergeant', 0.1, 0.7],\n  ['servant', 0.0, 0.1],\n  ['serviceman', 0.7, 0.3],\n  ['sheriff_deputy', 0.1, 0.8],\n  ['shopkeeper', 0.0, 0.5],\n  ['singer', 0.0, -0.2],\n  ['singer_songwriter', 0.0, -0.3],\n  ['skipper', 0.1, 0.7],\n  ['socialite', -0.4, -0.3],\n  ['sociologist', 0.0, -0.2],\n  ['soft_spoken', -0.1, -0.9],\n  ['soldier', 0.3, 0.6],\n  ['solicitor', 0.1, 0.3],\n  ['solicitor_general', 0.0, 0.5],\n  ['soloist', -0.1, -0.3],\n  ['sportsman', 0.9, 0.1],\n  ['sportswriter', 0.1, 0.9],\n  ['statesman', 0.6, 0.4],\n  ['steward', 0.4, -0.1],\n  ['stockbroker', 0.1, 0.5],\n  ['strategist', 0.0, 0.3],\n  ['student', 0.0, 0.0],\n  ['stylist', -0.2, -0.7],\n  ['substitute', -0.1, -0.1],\n  ['superintendent', 0.0, 0.9],\n  ['surgeon', 0.1, 0.7],\n  ['surveyor', 0.0, 0.5],\n  ['swimmer', 0.0, 0.0],\n  ['taxi_driver', 0.1, 0.9],\n  ['teacher', 0.0, -0.8],\n  ['technician', 0.1, 0.6],\n  ['teenager', 0.0, -0.1],\n  ['therapist', -0.1, -0.4],\n  ['trader', 0.1, 0.6],\n  ['treasurer', 0.0, -0.3],\n  ['trooper', 0.2, 0.5],\n  ['trucker', 0.2, 0.7],\n  ['trumpeter', 0.0, 0.2],\n  ['tutor', 0.0, -0.3],\n  ['tycoon', 0.1, 0.7],\n  ['undersecretary', 0.0, -0.3],\n  ['understudy', 0.0, 0.0],\n  ['valedictorian', 0.0, 0.0],\n  ['vice_chancellor', 0.0, 0.6],\n  ['violinist', -0.1, -0.3],\n  ['vocalist', 0.0, -0.3],\n  ['waiter', 1.0, 0.0],\n  ['waitress', -0.9, -0.1],\n  ['warden', 0.1, 0.9],\n  ['warrior', 0.1, 0.9],\n  ['welder', 0.3, 0.6],\n  ['worker', 0.0, 0.3],\n  ['wrestler', 0.2, 0.6],\n  ['writer', 0.0, 0.0]]}"
     },
     "metadata": {}
    }
   ],
   "execution_count": null
  },
  {
   "cell_type": "markdown",
   "source": "## Saving Debiased Model",
   "metadata": {
    "cell_id": "0aeb0380067442139938360a81b22055",
    "tags": [],
    "deepnote_to_be_reexecuted": false,
    "source_hash": "73d70a0b",
    "execution_start": 1656050583212,
    "execution_millis": 3,
    "deepnote_cell_type": "markdown",
    "deepnote_cell_height": 70
   }
  },
  {
   "cell_type": "code",
   "metadata": {
    "tags": [],
    "cell_id": "00006-6191dc54-7c54-453d-9bbd-5c465d4cd429",
    "deepnote_to_be_reexecuted": false,
    "source_hash": "deb4f167",
    "execution_start": 1656063151191,
    "execution_millis": 19020,
    "deepnote_cell_type": "code",
    "deepnote_cell_height": 155.578125
   },
   "source": "gender_debiased_model = hd.transform(model, ignore=gender_specific, copy=True)",
   "outputs": [
    {
     "name": "stdout",
     "text": "Copy argument is True. Transform will attempt to create a copy of the original model. This may fail due to lack of memory.\nModel copy created successfully.\n100%|██████████| 1193514/1193514 [00:16<00:00, 73058.60it/s]\n",
     "output_type": "stream"
    }
   ],
   "execution_count": null
  },
  {
   "cell_type": "markdown",
   "source": "# Mesuring & Visualising Impact of Debiasing ",
   "metadata": {
    "cell_id": "851d82ffcb6d4eeb9a72570ab3b94cb4",
    "tags": [],
    "deepnote_cell_type": "markdown",
    "deepnote_cell_height": 82
   }
  },
  {
   "cell_type": "markdown",
   "source": "## Measuring Bias",
   "metadata": {
    "cell_id": "d6fc1b5e89ee4e3e9c3e2fc8ffe2d8cb",
    "tags": [],
    "deepnote_to_be_reexecuted": false,
    "source_hash": "7fc2d5fd",
    "execution_start": 1656050602475,
    "execution_millis": 2,
    "deepnote_cell_type": "markdown",
    "deepnote_cell_height": 70
   }
  },
  {
   "cell_type": "code",
   "metadata": {
    "cell_id": "8832c9b682e24450bae5b1a4409ccd5d",
    "tags": [],
    "deepnote_to_be_reexecuted": false,
    "source_hash": "c1e42765",
    "execution_start": 1656063170011,
    "execution_millis": 0,
    "owner_user_id": "99893cd5-013f-4055-a1ed-61969e26342f",
    "deepnote_cell_type": "code",
    "deepnote_cell_height": 243
   },
   "source": "weat_wordset = load_weat()\nweat = WEAT()\n\ngender_query_1 = Query(\n    [weat_wordset[\"male_terms\"], weat_wordset[\"female_terms\"]],\n    [weat_wordset[\"career\"], weat_wordset[\"family\"]],\n    [\"Male terms\", \"Female terms\"],\n    [\"Career\", \"Family\"],\n)\n",
   "outputs": [],
   "execution_count": null
  },
  {
   "cell_type": "code",
   "metadata": {
    "cell_id": "ab43295ae0a04434858672e7c84b81cc",
    "tags": [],
    "deepnote_to_be_reexecuted": false,
    "source_hash": "33959e7a",
    "execution_start": 1656063170011,
    "execution_millis": 205,
    "deepnote_cell_type": "code",
    "deepnote_cell_height": 362
   },
   "source": "biased_results_1 = weat.run_query(gender_query_1, model, normalize=True)\ndebiased_results_1 = weat.run_query(gender_query_1, gender_debiased_model, normalize=True)\nresult_df = pd.DataFrame([biased_results_1, debiased_results_1])\nresult_df = result_df.assign(model = ['glove-twitter-25', 'glove-twitter-25-unbiased'])\nresult_df\n",
   "outputs": [
    {
     "output_type": "execute_result",
     "execution_count": 8,
     "data": {
      "application/vnd.deepnote.dataframe.v3+json": {
       "column_count": 6,
       "row_count": 2,
       "columns": [
        {
         "name": "query_name",
         "dtype": "object",
         "stats": {
          "unique_count": 1,
          "nan_count": 0,
          "categories": [
           {
            "name": "Male terms and Female terms wrt Career and Family",
            "count": 2
           }
          ]
         }
        },
        {
         "name": "result",
         "dtype": "float64",
         "stats": {
          "unique_count": 2,
          "nan_count": 0,
          "min": "-0.060434576123952866",
          "max": "0.3165842287708074",
          "histogram": [
           {
            "bin_start": -0.060434576123952866,
            "bin_end": -0.022732695634476843,
            "count": 1
           },
           {
            "bin_start": -0.022732695634476843,
            "bin_end": 0.014969184854999179,
            "count": 0
           },
           {
            "bin_start": 0.014969184854999179,
            "bin_end": 0.0526710653444752,
            "count": 0
           },
           {
            "bin_start": 0.0526710653444752,
            "bin_end": 0.09037294583395122,
            "count": 0
           },
           {
            "bin_start": 0.09037294583395122,
            "bin_end": 0.12807482632342726,
            "count": 0
           },
           {
            "bin_start": 0.12807482632342726,
            "bin_end": 0.16577670681290327,
            "count": 0
           },
           {
            "bin_start": 0.16577670681290327,
            "bin_end": 0.20347858730237928,
            "count": 0
           },
           {
            "bin_start": 0.20347858730237928,
            "bin_end": 0.2411804677918553,
            "count": 0
           },
           {
            "bin_start": 0.2411804677918553,
            "bin_end": 0.27888234828133135,
            "count": 0
           },
           {
            "bin_start": 0.27888234828133135,
            "bin_end": 0.3165842287708074,
            "count": 1
           }
          ]
         }
        },
        {
         "name": "weat",
         "dtype": "float64",
         "stats": {
          "unique_count": 2,
          "nan_count": 0,
          "min": "-0.060434576123952866",
          "max": "0.3165842287708074",
          "histogram": [
           {
            "bin_start": -0.060434576123952866,
            "bin_end": -0.022732695634476843,
            "count": 1
           },
           {
            "bin_start": -0.022732695634476843,
            "bin_end": 0.014969184854999179,
            "count": 0
           },
           {
            "bin_start": 0.014969184854999179,
            "bin_end": 0.0526710653444752,
            "count": 0
           },
           {
            "bin_start": 0.0526710653444752,
            "bin_end": 0.09037294583395122,
            "count": 0
           },
           {
            "bin_start": 0.09037294583395122,
            "bin_end": 0.12807482632342726,
            "count": 0
           },
           {
            "bin_start": 0.12807482632342726,
            "bin_end": 0.16577670681290327,
            "count": 0
           },
           {
            "bin_start": 0.16577670681290327,
            "bin_end": 0.20347858730237928,
            "count": 0
           },
           {
            "bin_start": 0.20347858730237928,
            "bin_end": 0.2411804677918553,
            "count": 0
           },
           {
            "bin_start": 0.2411804677918553,
            "bin_end": 0.27888234828133135,
            "count": 0
           },
           {
            "bin_start": 0.27888234828133135,
            "bin_end": 0.3165842287708074,
            "count": 1
           }
          ]
         }
        },
        {
         "name": "effect_size",
         "dtype": "float64",
         "stats": {
          "unique_count": 2,
          "nan_count": 0,
          "min": "-0.18812483337674588",
          "max": "0.6779441621296924",
          "histogram": [
           {
            "bin_start": -0.18812483337674588,
            "bin_end": -0.10151793382610204,
            "count": 1
           },
           {
            "bin_start": -0.10151793382610204,
            "bin_end": -0.014911034275458201,
            "count": 0
           },
           {
            "bin_start": -0.014911034275458201,
            "bin_end": 0.07169586527518565,
            "count": 0
           },
           {
            "bin_start": 0.07169586527518565,
            "bin_end": 0.15830276482582947,
            "count": 0
           },
           {
            "bin_start": 0.15830276482582947,
            "bin_end": 0.2449096643764733,
            "count": 0
           },
           {
            "bin_start": 0.2449096643764733,
            "bin_end": 0.33151656392711715,
            "count": 0
           },
           {
            "bin_start": 0.33151656392711715,
            "bin_end": 0.41812346347776097,
            "count": 0
           },
           {
            "bin_start": 0.41812346347776097,
            "bin_end": 0.5047303630284048,
            "count": 0
           },
           {
            "bin_start": 0.5047303630284048,
            "bin_end": 0.5913372625790486,
            "count": 0
           },
           {
            "bin_start": 0.5913372625790486,
            "bin_end": 0.6779441621296924,
            "count": 1
           }
          ]
         }
        },
        {
         "name": "p_value",
         "dtype": "float64",
         "stats": {
          "unique_count": 0,
          "nan_count": 2,
          "min": null,
          "max": null,
          "histogram": [
           {
            "bin_start": 0,
            "bin_end": 0.1,
            "count": 0
           },
           {
            "bin_start": 0.1,
            "bin_end": 0.2,
            "count": 0
           },
           {
            "bin_start": 0.2,
            "bin_end": 0.30000000000000004,
            "count": 0
           },
           {
            "bin_start": 0.30000000000000004,
            "bin_end": 0.4,
            "count": 0
           },
           {
            "bin_start": 0.4,
            "bin_end": 0.5,
            "count": 0
           },
           {
            "bin_start": 0.5,
            "bin_end": 0.6000000000000001,
            "count": 0
           },
           {
            "bin_start": 0.6000000000000001,
            "bin_end": 0.7000000000000001,
            "count": 0
           },
           {
            "bin_start": 0.7000000000000001,
            "bin_end": 0.8,
            "count": 0
           },
           {
            "bin_start": 0.8,
            "bin_end": 0.9,
            "count": 0
           },
           {
            "bin_start": 0.9,
            "bin_end": 1,
            "count": 0
           }
          ]
         }
        },
        {
         "name": "model",
         "dtype": "object",
         "stats": {
          "unique_count": 2,
          "nan_count": 0,
          "categories": [
           {
            "name": "glove-twitter-25",
            "count": 1
           },
           {
            "name": "glove-twitter-25-unbiased",
            "count": 1
           }
          ]
         }
        },
        {
         "name": "_deepnote_index_column",
         "dtype": "int64"
        }
       ],
       "rows": [
        {
         "query_name": "Male terms and Female terms wrt Career and Family",
         "result": 0.3165842287708074,
         "weat": 0.3165842287708074,
         "effect_size": 0.6779441621296924,
         "p_value": "nan",
         "model": "glove-twitter-25",
         "_deepnote_index_column": 0
        },
        {
         "query_name": "Male terms and Female terms wrt Career and Family",
         "result": -0.060434576123952866,
         "weat": -0.060434576123952866,
         "effect_size": -0.18812483337674588,
         "p_value": "nan",
         "model": "glove-twitter-25-unbiased",
         "_deepnote_index_column": 1
        }
       ]
      },
      "text/plain": "                                          query_name    result      weat  \\\n0  Male terms and Female terms wrt Career and Family  0.316584  0.316584   \n1  Male terms and Female terms wrt Career and Family -0.060435 -0.060435   \n\n   effect_size  p_value                      model  \n0     0.677944      NaN           glove-twitter-25  \n1    -0.188125      NaN  glove-twitter-25-unbiased  ",
      "text/html": "<div>\n<style scoped>\n    .dataframe tbody tr th:only-of-type {\n        vertical-align: middle;\n    }\n\n    .dataframe tbody tr th {\n        vertical-align: top;\n    }\n\n    .dataframe thead th {\n        text-align: right;\n    }\n</style>\n<table border=\"1\" class=\"dataframe\">\n  <thead>\n    <tr style=\"text-align: right;\">\n      <th></th>\n      <th>query_name</th>\n      <th>result</th>\n      <th>weat</th>\n      <th>effect_size</th>\n      <th>p_value</th>\n      <th>model</th>\n    </tr>\n  </thead>\n  <tbody>\n    <tr>\n      <th>0</th>\n      <td>Male terms and Female terms wrt Career and Family</td>\n      <td>0.316584</td>\n      <td>0.316584</td>\n      <td>0.677944</td>\n      <td>NaN</td>\n      <td>glove-twitter-25</td>\n    </tr>\n    <tr>\n      <th>1</th>\n      <td>Male terms and Female terms wrt Career and Family</td>\n      <td>-0.060435</td>\n      <td>-0.060435</td>\n      <td>-0.188125</td>\n      <td>NaN</td>\n      <td>glove-twitter-25-unbiased</td>\n    </tr>\n  </tbody>\n</table>\n</div>"
     },
     "metadata": {}
    }
   ],
   "execution_count": null
  },
  {
   "cell_type": "markdown",
   "source": "## Visualising",
   "metadata": {
    "cell_id": "9d7af44685444c4bb2780c126b2c57b6",
    "tags": [],
    "deepnote_to_be_reexecuted": false,
    "source_hash": "ca50efb6",
    "execution_start": 1656050981132,
    "execution_millis": 1,
    "deepnote_cell_type": "markdown",
    "deepnote_cell_height": 70
   }
  },
  {
   "cell_type": "code",
   "metadata": {
    "cell_id": "e2753c0d8327412185a096937d166d3e",
    "tags": [],
    "deepnote_to_be_reexecuted": false,
    "source_hash": "a8230559",
    "execution_start": 1656063170109,
    "execution_millis": 146,
    "deepnote_cell_type": "code",
    "deepnote_cell_height": 417,
    "deepnote_output_heights": [
     284
    ]
   },
   "source": "sns.barplot(x = \"weat\", y = \"model\", data = result_df, color=spoke_colors[1])\nplt.title(result_df['query_name'][0])\nplt.show()",
   "outputs": [
    {
     "data": {
      "text/plain": "<Figure size 432x288 with 1 Axes>",
      "image/png": "[encoded data removed]"
     },
     "metadata": {
      "needs_background": "light",
      "image/png": {
       "width": 523,
       "height": 282
      }
     },
     "output_type": "display_data"
    }
   ],
   "execution_count": null
  },
  {
   "cell_type": "markdown",
   "source": "# Exercises",
   "metadata": {
    "formattedRanges": [],
    "cell_id": "5d51ae50a5a34e59b710f82597475531",
    "tags": [],
    "is_collapsed": false,
    "owner_user_id": "50a3c2f8-837b-4b6c-9d5c-e047a5cfd368",
    "deepnote_cell_type": "text-cell-h1"
   }
  },
  {
   "cell_type": "markdown",
   "source": "1. Debias a word-embedding of your choice for bias of your choosing and visualise the results \n2. Discuss potential issues with this method of bias mitigation and explain in a couple of sentences",
   "metadata": {
    "cell_id": "5a9913f326274c8280cba2d7260bf773",
    "tags": [],
    "deepnote_cell_type": "markdown",
    "deepnote_cell_height": 94.796875
   }
  },
  {
   "cell_type": "markdown",
   "source": "",
   "metadata": {
    "cell_id": "f340c0af05144d84aaa994e712e1992f",
    "tags": [],
    "deepnote_cell_type": "markdown",
    "deepnote_cell_height": 46
   }
  },
  {
   "cell_type": "code",
   "source": "WEAT",
   "metadata": {
    "cell_id": "5e4b32b71db0489483d0763fe0976513",
    "tags": [],
    "deepnote_to_be_reexecuted": false,
    "source_hash": "6d78ee2b",
    "execution_start": 1656063170251,
    "execution_millis": 7,
    "deepnote_cell_type": "code",
    "deepnote_cell_height": 118
   },
   "outputs": [
    {
     "output_type": "execute_result",
     "execution_count": 10,
     "data": {
      "text/plain": "wefe.metrics.WEAT.WEAT"
     },
     "metadata": {}
    }
   ],
   "execution_count": null
  },
  {
   "cell_type": "markdown",
   "source": "<a style='text-decoration:none;line-height:16px;display:flex;color:#5B5B62;padding:10px;justify-content:end;' href='https://deepnote.com?utm_source=created-in-deepnote-cell&projectId=d2871a92-4e31-4482-a3e9-30cad94e9005' target=\"_blank\">\n<img alt='Created in deepnote.com' style='display:inline;max-height:16px;margin:0px;margin-right:7.5px;' src='data:image/svg+xml;base64,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' > </img>\nCreated in <span style='font-weight:600;margin-left:4px;'>Deepnote</span></a>",
   "metadata": {
    "tags": [],
    "created_in_deepnote_cell": true,
    "deepnote_cell_type": "markdown"
   }
  }
 ],
 "nbformat": 4,
 "nbformat_minor": 2,
 "metadata": {
  "orig_nbformat": 2,
  "deepnote": {},
  "deepnote_notebook_id": "79a165f7-8613-4ec7-be6a-4fd6852320b1",
  "deepnote_execution_queue": []
 }
}